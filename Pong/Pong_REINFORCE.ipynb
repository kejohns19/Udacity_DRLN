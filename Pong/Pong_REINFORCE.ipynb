{
  "nbformat": 4,
  "nbformat_minor": 0,
  "metadata": {
    "colab": {
      "name": "Untitled4.ipynb",
      "provenance": [],
      "authorship_tag": "ABX9TyMEI8sjr6AqTGcCMpy9BIR7",
      "include_colab_link": true
    },
    "kernelspec": {
      "name": "python3",
      "display_name": "Python 3"
    },
    "accelerator": "GPU"
  },
  "cells": [
    {
      "cell_type": "markdown",
      "metadata": {
        "id": "view-in-github",
        "colab_type": "text"
      },
      "source": [
        "<a href=\"https://colab.research.google.com/github/kejohns19/Udacity_DRLN/blob/master/Pong_REINFORCE.ipynb\" target=\"_parent\"><img src=\"https://colab.research.google.com/assets/colab-badge.svg\" alt=\"Open In Colab\"/></a>"
      ]
    },
    {
      "cell_type": "code",
      "metadata": {
        "id": "EH3cQPLOBn4y",
        "colab_type": "code",
        "colab": {
          "base_uri": "https://localhost:8080/",
          "height": 187
        },
        "outputId": "41fe0c40-6e17-4a64-8ce9-0b9d97cb24cd"
      },
      "source": [
        "# install package for displaying animation\n",
        "!pip install JSAnimation\n",
        "\n",
        "# custom utilies for displaying animation, collecting rollouts and more\n",
        "import pong_utils\n",
        "\n",
        "%matplotlib inline\n",
        "\n",
        "# check which device is being used. \n",
        "# I recommend disabling gpu until you've made sure that the code runs\n",
        "device = pong_utils.device\n",
        "print(\"using device: \",device)"
      ],
      "execution_count": 1,
      "outputs": [
        {
          "output_type": "stream",
          "text": [
            "Collecting JSAnimation\n",
            "  Downloading https://files.pythonhosted.org/packages/3c/e6/a93a578400c38a43af8b4271334ed2444b42d65580f1d6721c9fe32e9fd8/JSAnimation-0.1.tar.gz\n",
            "Building wheels for collected packages: JSAnimation\n",
            "  Building wheel for JSAnimation (setup.py) ... \u001b[?25l\u001b[?25hdone\n",
            "  Created wheel for JSAnimation: filename=JSAnimation-0.1-cp36-none-any.whl size=11428 sha256=d59f723068da6380d16614342d2e8143e0d97b7e783a971b5fb41a5544c0ffee\n",
            "  Stored in directory: /root/.cache/pip/wheels/3c/c2/b2/b444dffc3eed9c78139288d301c4009a42c0dd061d3b62cead\n",
            "Successfully built JSAnimation\n",
            "Installing collected packages: JSAnimation\n",
            "Successfully installed JSAnimation-0.1\n",
            "using device:  cuda:0\n"
          ],
          "name": "stdout"
        }
      ]
    },
    {
      "cell_type": "code",
      "metadata": {
        "id": "iN2bpO_vB4_p",
        "colab_type": "code",
        "colab": {
          "base_uri": "https://localhost:8080/",
          "height": 34
        },
        "outputId": "53e24924-f66a-4c92-9700-8e855d198a9a"
      },
      "source": [
        "# render ai gym environment\n",
        "import gym\n",
        "import time\n",
        "\n",
        "# PongDeterministic does not contain random frameskip\n",
        "# so is faster to train than the vanilla Pong-v4 environment\n",
        "env = gym.make('PongDeterministic-v4')\n",
        "\n",
        "print(\"List of available actions: \", env.unwrapped.get_action_meanings())\n",
        "\n",
        "# we will only use the actions 'RIGHTFIRE' = 4 and 'LEFTFIRE\" = 5\n",
        "# the 'FIRE' part ensures that the game starts again after losing a life\n",
        "# the actions are hard-coded in pong_utils.py"
      ],
      "execution_count": 2,
      "outputs": [
        {
          "output_type": "stream",
          "text": [
            "List of available actions:  ['NOOP', 'FIRE', 'RIGHT', 'LEFT', 'RIGHTFIRE', 'LEFTFIRE']\n"
          ],
          "name": "stdout"
        }
      ]
    },
    {
      "cell_type": "code",
      "metadata": {
        "id": "gg3ODj88B8Xm",
        "colab_type": "code",
        "colab": {
          "base_uri": "https://localhost:8080/",
          "height": 264
        },
        "outputId": "c2b9315f-bb34-4132-ec0c-090ef750effa"
      },
      "source": [
        "import matplotlib\n",
        "import matplotlib.pyplot as plt\n",
        "\n",
        "# show what a preprocessed image looks like\n",
        "env.reset()\n",
        "_, _, _, _ = env.step(0)\n",
        "# get a frame after 20 steps\n",
        "for _ in range(50):\n",
        "    frame, _, _, _ = env.step(1)\n",
        "\n",
        "plt.subplot(1,2,1)\n",
        "plt.imshow(frame)\n",
        "plt.title('original image')\n",
        "\n",
        "plt.subplot(1,2,2)\n",
        "plt.title('preprocessed image')\n",
        "\n",
        "# 80 x 80 black and white image\n",
        "plt.imshow(pong_utils.preprocess_single(frame), cmap='Greys')\n",
        "plt.show()"
      ],
      "execution_count": 3,
      "outputs": [
        {
          "output_type": "display_data",
          "data": {
            "image/png": "[encoded data removed]",
            "text/plain": [
              "<Figure size 432x288 with 2 Axes>"
            ]
          },
          "metadata": {
            "tags": [],
            "needs_background": "light"
          }
        }
      ]
    },
    {
      "cell_type": "code",
      "metadata": {
        "id": "RX3ZOxH4B-tm",
        "colab_type": "code",
        "colab": {}
      },
      "source": [
        "import torch\n",
        "import torch.nn as nn\n",
        "import torch.nn.functional as F\n",
        "\n",
        "\n",
        "\n",
        "# set up a convolutional neural net\n",
        "# the output is the probability of moving right\n",
        "# P(left) = 1-P(right)\n",
        "class Policy(nn.Module):\n",
        "\n",
        "    def __init__(self):\n",
        "        super(Policy, self).__init__()\n",
        "        \n",
        "        \n",
        "    ########\n",
        "    ## \n",
        "    ## Modify your neural network\n",
        "    ##\n",
        "    ########\n",
        "        \n",
        "        # 80x80 to outputsize x outputsize\n",
        "        # outputsize = (inputsize - kernel_size + stride)/stride \n",
        "        # (round up if not an integer)\n",
        "\n",
        "        # output = 20x20 here\n",
        "        self.conv1 = nn.Conv2d(2, 16, kernel_size=4, stride=4)\n",
        "        self.conv2 = nn.Conv2d(16, 32, kernel_size=4, stride=2)\n",
        "        self.size=32*9*9\n",
        "        \n",
        "        # 1 fully connected layer\n",
        "        self.fc1 = nn.Linear(self.size, 128)\n",
        "        self.fc2 = nn.Linear(128,1)\n",
        "        self.sig = nn.Sigmoid()\n",
        "        \n",
        "    def forward(self, x):\n",
        "        \n",
        "    ########\n",
        "    ## \n",
        "    ## Modify your neural network\n",
        "    ##\n",
        "    ########\n",
        "    \n",
        "        x = F.relu(self.conv1(x))\n",
        "        x = F.relu(self.conv2(x))\n",
        "        # flatten the tensor\n",
        "        x = x.view(-1,self.size)\n",
        "        x = F.relu(self.fc1(x))\n",
        "        return self.sig(self.fc2(x))\n",
        "\n",
        "# use your own policy!\n",
        "policy=Policy().to(device)\n",
        "\n",
        "\n",
        "#policy=pong_utils.Policy().to(device)\n",
        "\n",
        "# we use the adam optimizer with learning rate 2e-4\n",
        "# optim.SGD is also possible\n",
        "import torch.optim as optim\n",
        "optimizer = optim.Adam(policy.parameters(), lr=2e-4)"
      ],
      "execution_count": 4,
      "outputs": []
    },
    {
      "cell_type": "code",
      "metadata": {
        "id": "EMp9_NF-CFeI",
        "colab_type": "code",
        "colab": {}
      },
      "source": [
        "envs = pong_utils.parallelEnv('PongDeterministic-v4', n=4, seed=12345)\n",
        "prob, state, action, reward = pong_utils.collect_trajectories(envs, policy, tmax=100)"
      ],
      "execution_count": 6,
      "outputs": []
    },
    {
      "cell_type": "code",
      "metadata": {
        "id": "ki2Q1H49CPfp",
        "colab_type": "code",
        "colab": {
          "base_uri": "https://localhost:8080/",
          "height": 54
        },
        "outputId": "cb502434-5cec-4002-eea1-ec907c1f8328"
      },
      "source": [
        "print(reward)"
      ],
      "execution_count": 8,
      "outputs": [
        {
          "output_type": "stream",
          "text": [
            "[array([0., 0., 0., 0.]), array([0., 0., 0., 0.]), array([0., 0., 0., 0.]), array([0., 0., 0., 0.]), array([0., 0., 0., 0.]), array([0., 0., 0., 0.]), array([0., 0., 0., 0.]), array([0., 0., 0., 0.]), array([0., 0., 0., 0.]), array([0., 0., 0., 0.]), array([0., 0., 0., 0.]), array([0., 0., 0., 0.]), array([0., 0., 0., 0.]), array([0., 0., 0., 0.]), array([0., 0., 0., 0.]), array([0., 0., 0., 0.]), array([0., 0., 0., 0.]), array([0., 0., 0., 0.]), array([0., 0., 0., 0.]), array([0., 0., 0., 0.]), array([0., 0., 0., 0.]), array([0., 0., 0., 0.]), array([0., 0., 0., 0.]), array([0., 0., 0., 0.]), array([0., 0., 0., 0.]), array([0., 0., 0., 0.]), array([-1.,  0., -1., -1.]), array([0., 0., 0., 0.]), array([0., 0., 0., 0.]), array([0., 0., 0., 0.]), array([0., 0., 0., 0.]), array([0., 0., 0., 0.]), array([0., 0., 0., 0.]), array([0., 0., 0., 0.]), array([0., 0., 0., 0.]), array([0., 0., 0., 0.]), array([0., 0., 0., 0.]), array([0., 0., 0., 0.]), array([0., 0., 0., 0.]), array([0., 0., 0., 0.]), array([ 0., -1.,  0.,  0.]), array([0., 0., 0., 0.]), array([0., 0., 0., 0.]), array([ 0.,  0., -1., -1.]), array([0., 0., 0., 0.]), array([0., 0., 0., 0.]), array([0., 0., 0., 0.]), array([0., 0., 0., 0.]), array([0., 0., 0., 0.]), array([0., 0., 0., 0.]), array([0., 0., 0., 0.]), array([0., 0., 0., 0.]), array([0., 0., 0., 0.]), array([0., 0., 0., 0.]), array([0., 0., 0., 0.]), array([0., 0., 0., 0.]), array([0., 0., 0., 0.]), array([ 0., -1.,  0.,  0.]), array([0., 0., 0., 0.]), array([0., 0., 0., 0.]), array([0., 0., 0., 0.]), array([ 0.,  0., -1., -1.]), array([0., 0., 0., 0.]), array([0., 0., 0., 0.]), array([0., 0., 0., 0.]), array([0., 0., 0., 0.]), array([0., 0., 0., 0.]), array([0., 0., 0., 0.]), array([0., 0., 0., 0.]), array([0., 0., 0., 0.]), array([0., 0., 0., 0.]), array([0., 0., 0., 0.]), array([0., 0., 0., 0.]), array([-1.,  0.,  0.,  0.]), array([0., 0., 0., 0.]), array([ 0., -1.,  0.,  0.]), array([0., 0., 0., 0.]), array([0., 0., 0., 0.]), array([ 0.,  0., -1., -1.]), array([0., 0., 0., 0.]), array([0., 0., 0., 0.]), array([0., 0., 0., 0.]), array([0., 0., 0., 0.]), array([0., 0., 0., 0.]), array([0., 0., 0., 0.]), array([0., 0., 0., 0.]), array([0., 0., 0., 0.]), array([0., 0., 0., 0.]), array([0., 0., 0., 0.]), array([0., 0., 0., 0.]), array([0., 0., 0., 0.]), array([-1.,  0.,  0.,  0.]), array([0., 0., 0., 0.]), array([0., 0., 0., 0.]), array([0., 0., 0., 0.]), array([0., 0., 0., 0.]), array([ 0.,  0., -1., -1.]), array([0., 0., 0., 0.]), array([0., 0., 0., 0.]), array([0., 0., 0., 0.])]\n"
          ],
          "name": "stdout"
        }
      ]
    },
    {
      "cell_type": "code",
      "metadata": {
        "id": "K98qaDiiCSko",
        "colab_type": "code",
        "colab": {
          "base_uri": "https://localhost:8080/",
          "height": 34
        },
        "outputId": "47b66aad-a239-4b22-9a5c-1513fc592b8c"
      },
      "source": [
        "import numpy as np\n",
        "\n",
        "def surrogate(policy, old_probs, states, actions, rewards,\n",
        "              discount = 0.995, beta=0.01):\n",
        "\n",
        "    ########\n",
        "    ## \n",
        "    ## WRITE YOUR OWN CODE HERE\n",
        "    ##\n",
        "    ########\n",
        "    \n",
        "    discount = discount**np.arange(len(rewards))\n",
        "    rewards = np.asarray(rewards)*discount[:,np.newaxis]\n",
        "    \n",
        "    # convert rewards to future rewards\n",
        "    rewards_future = rewards[::-1].cumsum(axis=0)[::-1]\n",
        "  \n",
        "    mean = np.mean(rewards_future, axis=1)\n",
        "    std = np.std(rewards_future, axis=1) + 1.0e-10\n",
        "    \n",
        "    rewards_normalized = (rewards_future - mean[:,np.newaxis])/std[:,np.newaxis]\n",
        "    \n",
        "    # convert everything into pytorch tensors and move to gpu if available\n",
        "    actions = torch.tensor(actions, dtype=torch.int8, device=device)\n",
        "    old_probs = torch.tensor(old_probs, dtype=torch.float, device=device)\n",
        "    rewards = torch.tensor(rewards_normalized, dtype=torch.float, device=device)\n",
        "    \n",
        "    # convert states to policy (or probability)\n",
        "    new_probs = pong_utils.states_to_prob(policy, states)\n",
        "    new_probs = torch.where(actions == pong_utils.RIGHT, new_probs, 1.0-new_probs)\n",
        "    \n",
        "    ratio = new_probs/old_probs\n",
        "\n",
        "    # include a regularization term\n",
        "    # this steers new_policy towards 0.5\n",
        "    # which prevents policy to become exactly 0 or 1\n",
        "    # this helps with exploration\n",
        "    # add in 1.e-10 to avoid log(0) which gives nan\n",
        "    entropy = -(new_probs*torch.log(old_probs+1.e-10)+ \\\n",
        "        (1.0-new_probs)*torch.log(1.0-old_probs+1.e-10))\n",
        "\n",
        "    return torch.mean(ratio*rewards + beta*entropy)\n",
        "\n",
        "\n",
        "Lsur= surrogate(policy, prob, state, action, reward)\n",
        "\n",
        "print(Lsur)"
      ],
      "execution_count": 9,
      "outputs": [
        {
          "output_type": "stream",
          "text": [
            "tensor(0.0069, device='cuda:0', grad_fn=<MeanBackward0>)\n"
          ],
          "name": "stdout"
        }
      ]
    },
    {
      "cell_type": "code",
      "metadata": {
        "id": "O6nL5pIkJqU7",
        "colab_type": "code",
        "colab": {
          "base_uri": "https://localhost:8080/",
          "height": 102
        },
        "outputId": "f9dffc83-6931-44d4-ddd6-6e01d3ff949f"
      },
      "source": [
        "optimizer = optim.Adam(policy.parameters(), lr=1e-3)\n",
        "from parallelEnv import parallelEnv\n",
        "import numpy as np\n",
        "# WARNING: running through all 800 episodes will take 30-45 minutes\n",
        "\n",
        "# training loop max iterations\n",
        "episode = 2000\n",
        "# episode = 800\n",
        "\n",
        "# widget bar to display progress\n",
        "!pip install progressbar\n",
        "import progressbar as pb\n",
        "widget = ['training loop: ', pb.Percentage(), ' ', \n",
        "          pb.Bar(), ' ', pb.ETA() ]\n",
        "timer = pb.ProgressBar(widgets=widget, maxval=episode).start()\n",
        "\n",
        "# initialize environment\n",
        "envs = parallelEnv('PongDeterministic-v4', n=8, seed=1234)\n",
        "\n",
        "discount_rate = .99\n",
        "beta = .05\n",
        "tmax = 100\n",
        "\n",
        "# keep track of progress\n",
        "mean_rewards = []\n",
        "\n",
        "for e in range(episode):\n",
        "\n",
        "    # collect trajectories\n",
        "    old_probs, states, actions, rewards = \\\n",
        "        pong_utils.collect_trajectories(envs, policy, tmax=tmax)\n",
        "        \n",
        "    total_rewards = np.sum(rewards, axis=0)\n",
        "\n",
        "    # this is the SOLUTION!\n",
        "    # use your own surrogate function\n",
        "    L = -surrogate(policy, old_probs, states, actions, rewards, beta=beta)\n",
        "    \n",
        "    #L = -pong_utils.surrogate(policy, old_probs, states, actions, rewards, beta=beta)\n",
        "    optimizer.zero_grad()\n",
        "    L.backward()\n",
        "    optimizer.step()\n",
        "    del L\n",
        "        \n",
        "    # the regulation term also reduces\n",
        "    # this reduces exploration in later runs\n",
        "    beta*=.998\n",
        "    \n",
        "    # get the average reward of the parallel environments\n",
        "    mean_rewards.append(np.mean(total_rewards))\n",
        "    \n",
        "    # display some progress every 20 iterations\n",
        "    if (e+1)%20 ==0 :\n",
        "        print(\"Episode: {0:d}, score: {1:f}, tmax: {2:d}\".format(e+1,np.mean(total_rewards), tmax))\n",
        "        print(total_rewards)\n",
        "        \n",
        "        # increase tmax\n",
        "        if mean_rewards[-1] > -3:\n",
        "            tmax += 10\n",
        "        \n",
        "    # update progress widget bar\n",
        "    timer.update(e+1)\n",
        "    \n",
        "timer.finish()\n",
        "    "
      ],
      "execution_count": null,
      "outputs": [
        {
          "output_type": "stream",
          "text": [
            "Requirement already satisfied: progressbar in /usr/local/lib/python3.6/dist-packages (2.5)\n"
          ],
          "name": "stdout"
        },
        {
          "output_type": "stream",
          "text": [
            ""
          ],
          "name": "stderr"
        },
        {
          "output_type": "stream",
          "text": [
            "Episode: 20, score: -3.625000, tmax: 100\n",
            "[-4. -2. -4. -2. -2. -5. -5. -5.]\n"
          ],
          "name": "stdout"
        },
        {
          "output_type": "stream",
          "text": [
            ""
          ],
          "name": "stderr"
        },
        {
          "output_type": "stream",
          "text": [
            "Episode: 40, score: -3.625000, tmax: 100\n",
            "[-5. -1. -3. -5. -1. -4. -5. -5.]\n"
          ],
          "name": "stdout"
        },
        {
          "output_type": "stream",
          "text": [
            ""
          ],
          "name": "stderr"
        }
      ]
    },
    {
      "cell_type": "code",
      "metadata": {
        "id": "C6Ef4AJ1KXVa",
        "colab_type": "code",
        "colab": {}
      },
      "source": [
        ""
      ],
      "execution_count": null,
      "outputs": []
    }
  ]
}