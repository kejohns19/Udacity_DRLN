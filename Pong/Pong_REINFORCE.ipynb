{
  "nbformat": 4,
  "nbformat_minor": 0,
  "metadata": {
    "colab": {
      "name": "Pong_REINFORCE.ipynb",
      "provenance": [],
      "collapsed_sections": [],
      "toc_visible": true,
      "authorship_tag": "ABX9TyP6XLXr/int9WAX7rJpChKA",
      "include_colab_link": true
    },
    "kernelspec": {
      "name": "python3",
      "display_name": "Python 3"
    }
  },
  "cells": [
    {
      "cell_type": "markdown",
      "metadata": {
        "id": "view-in-github",
        "colab_type": "text"
      },
      "source": [
        "<a href=\"https://colab.research.google.com/github/kejohns19/Udacity_DRLN/blob/master/Pong/Pong_REINFORCE.ipynb\" target=\"_parent\"><img src=\"https://colab.research.google.com/assets/colab-badge.svg\" alt=\"Open In Colab\"/></a>"
      ]
    },
    {
      "cell_type": "code",
      "metadata": {
        "id": "NIt5BjONLNpe",
        "colab_type": "code",
        "colab": {
          "base_uri": "https://localhost:8080/",
          "height": 578
        },
        "outputId": "3ff0480f-41bb-4469-c27f-a1c313455a5d"
      },
      "source": [
        "!wget https://raw.githubusercontent.com/kejohns19/Udacity_DRLN/master/Pong/parallelEnv.py\n",
        "!wget https://raw.githubusercontent.com/kejohns19/Udacity_DRLN/master/Pong/pong_utils.py\n",
        "!wget https://raw.githubusercontent.com/kejohns19/Udacity_DRLN/master/Pong/REINFORCE.policy"
      ],
      "execution_count": 1,
      "outputs": [
        {
          "output_type": "stream",
          "text": [
            "--2020-09-07 10:48:36--  https://raw.githubusercontent.com/kejohns19/Udacity_DRLN/master/parallelEnv.py\n",
            "Resolving raw.githubusercontent.com (raw.githubusercontent.com)... 151.101.0.133, 151.101.64.133, 151.101.128.133, ...\n",
            "Connecting to raw.githubusercontent.com (raw.githubusercontent.com)|151.101.0.133|:443... connected.\n",
            "HTTP request sent, awaiting response... 200 OK\n",
            "Length: 5625 (5.5K) [text/plain]\n",
            "Saving to: ‘parallelEnv.py’\n",
            "\n",
            "parallelEnv.py      100%[===================>]   5.49K  --.-KB/s    in 0s      \n",
            "\n",
            "2020-09-07 10:48:36 (66.1 MB/s) - ‘parallelEnv.py’ saved [5625/5625]\n",
            "\n",
            "--2020-09-07 10:48:36--  https://raw.githubusercontent.com/kejohns19/Udacity_DRLN/master/pong_utils.py\n",
            "Resolving raw.githubusercontent.com (raw.githubusercontent.com)... 151.101.0.133, 151.101.64.133, 151.101.128.133, ...\n",
            "Connecting to raw.githubusercontent.com (raw.githubusercontent.com)|151.101.0.133|:443... connected.\n",
            "HTTP request sent, awaiting response... 200 OK\n",
            "Length: 12204 (12K) [text/plain]\n",
            "Saving to: ‘pong_utils.py’\n",
            "\n",
            "pong_utils.py       100%[===================>]  11.92K  --.-KB/s    in 0s      \n",
            "\n",
            "2020-09-07 10:48:36 (82.4 MB/s) - ‘pong_utils.py’ saved [12204/12204]\n",
            "\n",
            "--2020-09-07 10:48:36--  https://raw.githubusercontent.com/kejohns19/Udacity_DRLN/master/REINFORCE.policy\n",
            "Resolving raw.githubusercontent.com (raw.githubusercontent.com)... 151.101.0.133, 151.101.64.133, 151.101.128.133, ...\n",
            "Connecting to raw.githubusercontent.com (raw.githubusercontent.com)|151.101.0.133|:443... connected.\n",
            "HTTP request sent, awaiting response... 200 OK\n",
            "Length: 1367303 (1.3M) [application/octet-stream]\n",
            "Saving to: ‘REINFORCE.policy’\n",
            "\n",
            "REINFORCE.policy    100%[===================>]   1.30M  --.-KB/s    in 0.1s    \n",
            "\n",
            "2020-09-07 10:48:36 (11.3 MB/s) - ‘REINFORCE.policy’ saved [1367303/1367303]\n",
            "\n"
          ],
          "name": "stdout"
        }
      ]
    },
    {
      "cell_type": "code",
      "metadata": {
        "id": "EH3cQPLOBn4y",
        "colab_type": "code",
        "colab": {
          "base_uri": "https://localhost:8080/",
          "height": 51
        },
        "outputId": "0d78219a-5cfb-4b8b-af2d-30e773ca0042"
      },
      "source": [
        "# install package for displaying animation\n",
        "!pip install JSAnimation\n",
        "\n",
        "# custom utilies for displaying animation, collecting rollouts and more\n",
        "import pong_utils\n",
        "\n",
        "%matplotlib inline\n",
        "\n",
        "# check which device is being used. \n",
        "# I recommend disabling gpu until you've made sure that the code runs\n",
        "device = pong_utils.device\n",
        "print(\"using device: \",device)"
      ],
      "execution_count": 6,
      "outputs": [
        {
          "output_type": "stream",
          "text": [
            "Requirement already satisfied: JSAnimation in /usr/local/lib/python3.6/dist-packages (0.1)\n",
            "using device:  cpu\n"
          ],
          "name": "stdout"
        }
      ]
    },
    {
      "cell_type": "code",
      "metadata": {
        "id": "iN2bpO_vB4_p",
        "colab_type": "code",
        "colab": {
          "base_uri": "https://localhost:8080/",
          "height": 34
        },
        "outputId": "0d0643af-eca4-4ce7-ef72-bbecd85b3e58"
      },
      "source": [
        "# render ai gym environment\n",
        "import gym\n",
        "import time\n",
        "\n",
        "# PongDeterministic does not contain random frameskip\n",
        "# so is faster to train than the vanilla Pong-v4 environment\n",
        "env = gym.make('PongDeterministic-v4')\n",
        "\n",
        "print(\"List of available actions: \", env.unwrapped.get_action_meanings())\n",
        "\n",
        "# we will only use the actions 'RIGHTFIRE' = 4 and 'LEFTFIRE\" = 5\n",
        "# the 'FIRE' part ensures that the game starts again after losing a life\n",
        "# the actions are hard-coded in pong_utils.py"
      ],
      "execution_count": 7,
      "outputs": [
        {
          "output_type": "stream",
          "text": [
            "List of available actions:  ['NOOP', 'FIRE', 'RIGHT', 'LEFT', 'RIGHTFIRE', 'LEFTFIRE']\n"
          ],
          "name": "stdout"
        }
      ]
    },
    {
      "cell_type": "code",
      "metadata": {
        "id": "gg3ODj88B8Xm",
        "colab_type": "code",
        "colab": {
          "base_uri": "https://localhost:8080/",
          "height": 264
        },
        "outputId": "dd827cf6-85d0-49b4-86d2-9c4456c63831"
      },
      "source": [
        "import matplotlib\n",
        "import matplotlib.pyplot as plt\n",
        "\n",
        "# show what a preprocessed image looks like\n",
        "env.reset()\n",
        "_, _, _, _ = env.step(0)\n",
        "# get a frame after 20 steps\n",
        "for _ in range(50):\n",
        "    frame, _, _, _ = env.step(1)\n",
        "\n",
        "plt.subplot(1,2,1)\n",
        "plt.imshow(frame)\n",
        "plt.title('original image')\n",
        "\n",
        "plt.subplot(1,2,2)\n",
        "plt.title('preprocessed image')\n",
        "\n",
        "# 80 x 80 black and white image\n",
        "plt.imshow(pong_utils.preprocess_single(frame), cmap='Greys')\n",
        "plt.show()"
      ],
      "execution_count": 8,
      "outputs": [
        {
          "output_type": "display_data",
          "data": {
            "image/png": "[encoded data removed]",
            "text/plain": [
              "<Figure size 432x288 with 2 Axes>"
            ]
          },
          "metadata": {
            "tags": [],
            "needs_background": "light"
          }
        }
      ]
    },
    {
      "cell_type": "code",
      "metadata": {
        "id": "RX3ZOxH4B-tm",
        "colab_type": "code",
        "colab": {}
      },
      "source": [
        "import torch\n",
        "import torch.nn as nn\n",
        "import torch.nn.functional as F\n",
        "\n",
        "\n",
        "\n",
        "# set up a convolutional neural net\n",
        "# the output is the probability of moving right\n",
        "# P(left) = 1-P(right)\n",
        "class Policy(nn.Module):\n",
        "\n",
        "    def __init__(self):\n",
        "        super(Policy, self).__init__()\n",
        "        \n",
        "        \n",
        "    ########\n",
        "    ## \n",
        "    ## Modify your neural network\n",
        "    ##\n",
        "    ########\n",
        "        \n",
        "        # 80x80 to outputsize x outputsize\n",
        "        # outputsize = (inputsize - kernel_size + stride)/stride \n",
        "        # (round up if not an integer)\n",
        "\n",
        "        # output = 20x20 here\n",
        "        self.conv1 = nn.Conv2d(2, 16, kernel_size=4, stride=4)\n",
        "        self.conv2 = nn.Conv2d(16, 32, kernel_size=4, stride=2)\n",
        "        self.size=32*9*9\n",
        "        \n",
        "        # 1 fully connected layer\n",
        "        self.fc1 = nn.Linear(self.size, 128)\n",
        "        self.fc2 = nn.Linear(128,1)\n",
        "        self.sig = nn.Sigmoid()\n",
        "        \n",
        "    def forward(self, x):\n",
        "        \n",
        "    ########\n",
        "    ## \n",
        "    ## Modify your neural network\n",
        "    ##\n",
        "    ########\n",
        "    \n",
        "        x = F.relu(self.conv1(x))\n",
        "        x = F.relu(self.conv2(x))\n",
        "        # flatten the tensor\n",
        "        x = x.view(-1,self.size)\n",
        "        x = F.relu(self.fc1(x))\n",
        "        return self.sig(self.fc2(x))\n",
        "\n",
        "# use your own policy!\n",
        "policy=Policy().to(device)\n",
        "\n",
        "\n",
        "#policy=pong_utils.Policy().to(device)\n",
        "\n",
        "# we use the adam optimizer with learning rate 2e-4\n",
        "# optim.SGD is also possible\n",
        "import torch.optim as optim\n",
        "optimizer = optim.Adam(policy.parameters(), lr=2e-4)"
      ],
      "execution_count": 9,
      "outputs": []
    },
    {
      "cell_type": "code",
      "metadata": {
        "id": "EMp9_NF-CFeI",
        "colab_type": "code",
        "colab": {}
      },
      "source": [
        "envs = pong_utils.parallelEnv('PongDeterministic-v4', n=4, seed=12345)\n",
        "prob, state, action, reward = pong_utils.collect_trajectories(envs, policy, tmax=100)"
      ],
      "execution_count": 10,
      "outputs": []
    },
    {
      "cell_type": "markdown",
      "metadata": {
        "id": "NbjGdU_qL_ii",
        "colab_type": "text"
      },
      "source": [
        ""
      ]
    },
    {
      "cell_type": "code",
      "metadata": {
        "id": "ki2Q1H49CPfp",
        "colab_type": "code",
        "colab": {
          "base_uri": "https://localhost:8080/",
          "height": 34
        },
        "outputId": "d7561189-cc31-469e-8018-e25e85c9672c"
      },
      "source": [
        "[(x[0], x[1]) for x in reward if x[0] !=  0]"
      ],
      "execution_count": 14,
      "outputs": [
        {
          "output_type": "execute_result",
          "data": {
            "text/plain": [
              "[(-1.0, 0.0), (-1.0, 0.0), (-1.0, 0.0), (-1.0, 0.0), (-1.0, 0.0)]"
            ]
          },
          "metadata": {
            "tags": []
          },
          "execution_count": 14
        }
      ]
    },
    {
      "cell_type": "code",
      "metadata": {
        "id": "K98qaDiiCSko",
        "colab_type": "code",
        "colab": {
          "base_uri": "https://localhost:8080/",
          "height": 34
        },
        "outputId": "f9b1afb4-a735-4622-e070-d5c0164e37b0"
      },
      "source": [
        "import numpy as np\n",
        "\n",
        "def surrogate(policy, old_probs, states, actions, rewards,\n",
        "              discount = 0.995, beta=0.01):\n",
        "\n",
        "    ########\n",
        "    ## \n",
        "    ## WRITE YOUR OWN CODE HERE\n",
        "    ##\n",
        "    ########\n",
        "    \n",
        "    discount = discount**np.arange(len(rewards))\n",
        "    rewards = np.asarray(rewards)*discount[:,np.newaxis]\n",
        "    \n",
        "    # convert rewards to future rewards\n",
        "    rewards_future = rewards[::-1].cumsum(axis=0)[::-1]\n",
        "  \n",
        "    mean = np.mean(rewards_future, axis=1)\n",
        "    std = np.std(rewards_future, axis=1) + 1.0e-10\n",
        "    \n",
        "    rewards_normalized = (rewards_future - mean[:,np.newaxis])/std[:,np.newaxis]\n",
        "    \n",
        "    # convert everything into pytorch tensors and move to gpu if available\n",
        "    actions = torch.tensor(actions, dtype=torch.int8, device=device)\n",
        "    old_probs = torch.tensor(old_probs, dtype=torch.float, device=device)\n",
        "    rewards = torch.tensor(rewards_normalized, dtype=torch.float, device=device)\n",
        "    \n",
        "    # convert states to policy (or probability)\n",
        "    new_probs = pong_utils.states_to_prob(policy, states)\n",
        "    new_probs = torch.where(actions == pong_utils.RIGHT, new_probs, 1.0-new_probs)\n",
        "    \n",
        "    ratio = new_probs/old_probs\n",
        "\n",
        "    # include a regularization term\n",
        "    # this steers new_policy towards 0.5\n",
        "    # which prevents policy to become exactly 0 or 1\n",
        "    # this helps with exploration\n",
        "    # add in 1.e-10 to avoid log(0) which gives nan\n",
        "    entropy = -(new_probs*torch.log(old_probs+1.e-10)+ \\\n",
        "        (1.0-new_probs)*torch.log(1.0-old_probs+1.e-10))\n",
        "\n",
        "    return torch.mean(ratio*rewards + beta*entropy)\n",
        "\n",
        "\n",
        "Lsur= surrogate(policy, prob, state, action, reward)\n",
        "\n",
        "print(Lsur)"
      ],
      "execution_count": 15,
      "outputs": [
        {
          "output_type": "stream",
          "text": [
            "tensor(0.0069, grad_fn=<MeanBackward0>)\n"
          ],
          "name": "stdout"
        }
      ]
    },
    {
      "cell_type": "code",
      "metadata": {
        "id": "O6nL5pIkJqU7",
        "colab_type": "code",
        "colab": {
          "base_uri": "https://localhost:8080/",
          "height": 1000
        },
        "outputId": "e323fe7a-db86-4963-e328-db751f772d41"
      },
      "source": [
        "optimizer = optim.Adam(policy.parameters(), lr=1e-3)\n",
        "from parallelEnv import parallelEnv\n",
        "import numpy as np\n",
        "# WARNING: running through all 800 episodes will take 30-45 minutes\n",
        "\n",
        "# training loop max iterations\n",
        "episode = 2000\n",
        "# episode = 800\n",
        "\n",
        "# widget bar to display progress\n",
        "!pip install progressbar\n",
        "import progressbar as pb\n",
        "widget = ['training loop: ', pb.Percentage(), ' ', \n",
        "          pb.Bar(), ' ', pb.ETA() ]\n",
        "timer = pb.ProgressBar(widgets=widget, maxval=episode).start()\n",
        "\n",
        "# initialize environment\n",
        "envs = parallelEnv('PongDeterministic-v4', n=8, seed=1234)\n",
        "\n",
        "discount_rate = .99\n",
        "beta = .05\n",
        "tmax = 100\n",
        "\n",
        "# keep track of progress\n",
        "mean_rewards = []\n",
        "\n",
        "for e in range(episode):\n",
        "\n",
        "    # collect trajectories\n",
        "    old_probs, states, actions, rewards = \\\n",
        "        pong_utils.collect_trajectories(envs, policy, tmax=tmax)\n",
        "        \n",
        "    total_rewards = np.sum(rewards, axis=0)\n",
        "\n",
        "    # this is the SOLUTION!\n",
        "    # use your own surrogate function\n",
        "    L = -surrogate(policy, old_probs, states, actions, rewards, beta=beta)\n",
        "    \n",
        "    #L = -pong_utils.surrogate(policy, old_probs, states, actions, rewards, beta=beta)\n",
        "    optimizer.zero_grad()\n",
        "    L.backward()\n",
        "    optimizer.step()\n",
        "    del L\n",
        "        \n",
        "    # the regulation term also reduces\n",
        "    # this reduces exploration in later runs\n",
        "    beta*=.998\n",
        "    \n",
        "    # get the average reward of the parallel environments\n",
        "    mean_rewards.append(np.mean(total_rewards))\n",
        "    \n",
        "    # display some progress every 20 iterations\n",
        "    if (e+1)%20 ==0 :\n",
        "        print(\"Episode: {0:d}, score: {1:f}, tmax: {2:d}\".format(e+1,np.mean(total_rewards), tmax))\n",
        "        print(total_rewards)\n",
        "        \n",
        "        # increase tmax\n",
        "        if mean_rewards[-1] > -3:\n",
        "            tmax += 10\n",
        "        \n",
        "    # update progress widget bar\n",
        "    timer.update(e+1)\n",
        "    \n",
        "timer.finish()\n",
        "    "
      ],
      "execution_count": 12,
      "outputs": [
        {
          "output_type": "stream",
          "text": [
            "Requirement already satisfied: progressbar in /usr/local/lib/python3.6/dist-packages (2.5)\n"
          ],
          "name": "stdout"
        },
        {
          "output_type": "stream",
          "text": [
            ""
          ],
          "name": "stderr"
        },
        {
          "output_type": "stream",
          "text": [
            "Episode: 20, score: -3.625000, tmax: 100\n",
            "[-4. -2. -4. -2. -2. -5. -5. -5.]\n"
          ],
          "name": "stdout"
        },
        {
          "output_type": "stream",
          "text": [
            ""
          ],
          "name": "stderr"
        },
        {
          "output_type": "stream",
          "text": [
            "Episode: 40, score: -3.625000, tmax: 100\n",
            "[-5. -1. -3. -5. -1. -4. -5. -5.]\n"
          ],
          "name": "stdout"
        },
        {
          "output_type": "stream",
          "text": [
            ""
          ],
          "name": "stderr"
        },
        {
          "output_type": "stream",
          "text": [
            "Episode: 60, score: -4.000000, tmax: 100\n",
            "[-5. -3. -4. -3. -5. -5. -3. -4.]\n"
          ],
          "name": "stdout"
        },
        {
          "output_type": "stream",
          "text": [
            ""
          ],
          "name": "stderr"
        },
        {
          "output_type": "stream",
          "text": [
            "Episode: 80, score: -3.750000, tmax: 100\n",
            "[-3. -4. -5. -4. -2. -4. -3. -5.]\n"
          ],
          "name": "stdout"
        },
        {
          "output_type": "stream",
          "text": [
            ""
          ],
          "name": "stderr"
        },
        {
          "output_type": "stream",
          "text": [
            "Episode: 100, score: -3.875000, tmax: 100\n",
            "[-2. -4. -5. -4. -5. -4. -4. -3.]\n"
          ],
          "name": "stdout"
        },
        {
          "output_type": "stream",
          "text": [
            ""
          ],
          "name": "stderr"
        },
        {
          "output_type": "stream",
          "text": [
            "Episode: 120, score: -3.000000, tmax: 100\n",
            "[-1. -1. -2. -5. -4. -4. -3. -4.]\n"
          ],
          "name": "stdout"
        },
        {
          "output_type": "stream",
          "text": [
            ""
          ],
          "name": "stderr"
        },
        {
          "output_type": "stream",
          "text": [
            "Episode: 140, score: -2.500000, tmax: 100\n",
            "[-4. -3. -1. -2. -3. -2. -2. -3.]\n"
          ],
          "name": "stdout"
        },
        {
          "output_type": "stream",
          "text": [
            ""
          ],
          "name": "stderr"
        },
        {
          "output_type": "stream",
          "text": [
            "Episode: 160, score: -4.000000, tmax: 110\n",
            "[-4. -4. -5. -4. -4. -3. -4. -4.]\n"
          ],
          "name": "stdout"
        },
        {
          "output_type": "stream",
          "text": [
            ""
          ],
          "name": "stderr"
        },
        {
          "output_type": "stream",
          "text": [
            "Episode: 180, score: -3.875000, tmax: 110\n",
            "[-3. -4. -4. -4. -4. -4. -4. -4.]\n"
          ],
          "name": "stdout"
        },
        {
          "output_type": "stream",
          "text": [
            ""
          ],
          "name": "stderr"
        },
        {
          "output_type": "stream",
          "text": [
            "Episode: 200, score: -3.750000, tmax: 110\n",
            "[-2. -4. -4. -4. -4. -4. -4. -4.]\n"
          ],
          "name": "stdout"
        },
        {
          "output_type": "stream",
          "text": [
            ""
          ],
          "name": "stderr"
        },
        {
          "output_type": "stream",
          "text": [
            "Episode: 220, score: -3.125000, tmax: 110\n",
            "[-2. -5. -3. -4. -4. -4. -3.  0.]\n"
          ],
          "name": "stdout"
        },
        {
          "output_type": "stream",
          "text": [
            ""
          ],
          "name": "stderr"
        },
        {
          "output_type": "stream",
          "text": [
            "Episode: 240, score: -3.250000, tmax: 110\n",
            "[-2. -3. -4. -2. -4. -4. -3. -4.]\n"
          ],
          "name": "stdout"
        },
        {
          "output_type": "stream",
          "text": [
            ""
          ],
          "name": "stderr"
        },
        {
          "output_type": "stream",
          "text": [
            "Episode: 260, score: -3.375000, tmax: 110\n",
            "[-2. -4. -4. -4. -4. -1. -4. -4.]\n"
          ],
          "name": "stdout"
        },
        {
          "output_type": "stream",
          "text": [
            ""
          ],
          "name": "stderr"
        },
        {
          "output_type": "stream",
          "text": [
            "Episode: 280, score: -4.000000, tmax: 110\n",
            "[-4. -4. -4. -4. -4. -4. -4. -4.]\n"
          ],
          "name": "stdout"
        },
        {
          "output_type": "stream",
          "text": [
            ""
          ],
          "name": "stderr"
        },
        {
          "output_type": "stream",
          "text": [
            "Episode: 300, score: -2.625000, tmax: 110\n",
            "[ 0. -4. -4.  0. -4. -4. -3. -2.]\n"
          ],
          "name": "stdout"
        },
        {
          "output_type": "stream",
          "text": [
            ""
          ],
          "name": "stderr"
        },
        {
          "output_type": "stream",
          "text": [
            "Episode: 320, score: -4.000000, tmax: 120\n",
            "[-5. -4. -4. -5. -4. -4. -3. -3.]\n"
          ],
          "name": "stdout"
        },
        {
          "output_type": "stream",
          "text": [
            ""
          ],
          "name": "stderr"
        },
        {
          "output_type": "stream",
          "text": [
            "Episode: 340, score: -3.375000, tmax: 120\n",
            "[-5.  0. -4. -2. -5. -3. -4. -4.]\n"
          ],
          "name": "stdout"
        },
        {
          "output_type": "stream",
          "text": [
            ""
          ],
          "name": "stderr"
        },
        {
          "output_type": "stream",
          "text": [
            "Episode: 360, score: -3.125000, tmax: 120\n",
            "[-1. -5. -4. -2. -4. -4. -3. -2.]\n"
          ],
          "name": "stdout"
        },
        {
          "output_type": "stream",
          "text": [
            ""
          ],
          "name": "stderr"
        },
        {
          "output_type": "stream",
          "text": [
            "Episode: 380, score: -4.375000, tmax: 120\n",
            "[-4. -4. -4. -4. -5. -4. -5. -5.]\n"
          ],
          "name": "stdout"
        },
        {
          "output_type": "stream",
          "text": [
            ""
          ],
          "name": "stderr"
        },
        {
          "output_type": "stream",
          "text": [
            "Episode: 400, score: -3.750000, tmax: 120\n",
            "[-4. -3. -5. -3. -5. -4. -2. -4.]\n"
          ],
          "name": "stdout"
        },
        {
          "output_type": "stream",
          "text": [
            ""
          ],
          "name": "stderr"
        },
        {
          "output_type": "stream",
          "text": [
            "Episode: 420, score: -3.500000, tmax: 120\n",
            "[-5. -4. -5. -4. -3. -2. -3. -2.]\n"
          ],
          "name": "stdout"
        },
        {
          "output_type": "stream",
          "text": [
            ""
          ],
          "name": "stderr"
        },
        {
          "output_type": "stream",
          "text": [
            "Episode: 440, score: -3.250000, tmax: 120\n",
            "[-4. -3. -4. -1. -4. -1. -5. -4.]\n"
          ],
          "name": "stdout"
        },
        {
          "output_type": "stream",
          "text": [
            ""
          ],
          "name": "stderr"
        },
        {
          "output_type": "stream",
          "text": [
            "Episode: 460, score: -2.750000, tmax: 120\n",
            "[-3. -4. -4.  0. -4.  1. -4. -4.]\n"
          ],
          "name": "stdout"
        },
        {
          "output_type": "stream",
          "text": [
            ""
          ],
          "name": "stderr"
        },
        {
          "output_type": "stream",
          "text": [
            "Episode: 480, score: -4.000000, tmax: 130\n",
            "[-1. -1. -6. -4. -5. -4. -5. -6.]\n"
          ],
          "name": "stdout"
        },
        {
          "output_type": "stream",
          "text": [
            ""
          ],
          "name": "stderr"
        },
        {
          "output_type": "stream",
          "text": [
            "Episode: 500, score: -2.750000, tmax: 130\n",
            "[-5. -1. -5. -3. -1. -3. -1. -3.]\n"
          ],
          "name": "stdout"
        },
        {
          "output_type": "stream",
          "text": [
            ""
          ],
          "name": "stderr"
        },
        {
          "output_type": "stream",
          "text": [
            "Episode: 520, score: -3.000000, tmax: 140\n",
            "[-4. -3. -1. -3. -4. -3. -5. -1.]\n"
          ],
          "name": "stdout"
        },
        {
          "output_type": "stream",
          "text": [
            ""
          ],
          "name": "stderr"
        },
        {
          "output_type": "stream",
          "text": [
            "Episode: 540, score: -2.125000, tmax: 140\n",
            "[-4. -1. -4.  0. -2. -4. -3.  1.]\n"
          ],
          "name": "stdout"
        },
        {
          "output_type": "stream",
          "text": [
            ""
          ],
          "name": "stderr"
        },
        {
          "output_type": "stream",
          "text": [
            "Episode: 560, score: -3.875000, tmax: 150\n",
            "[-3. -3. -2. -6. -2. -5. -6. -4.]\n"
          ],
          "name": "stdout"
        },
        {
          "output_type": "stream",
          "text": [
            ""
          ],
          "name": "stderr"
        },
        {
          "output_type": "stream",
          "text": [
            "Episode: 580, score: -3.375000, tmax: 150\n",
            "[-3. -5. -4.  0. -3. -5. -4. -3.]\n"
          ],
          "name": "stdout"
        },
        {
          "output_type": "stream",
          "text": [
            ""
          ],
          "name": "stderr"
        },
        {
          "output_type": "stream",
          "text": [
            "Episode: 600, score: -2.250000, tmax: 150\n",
            "[-1. -1. -2. -4. -2. -1. -5. -2.]\n"
          ],
          "name": "stdout"
        },
        {
          "output_type": "stream",
          "text": [
            ""
          ],
          "name": "stderr"
        },
        {
          "output_type": "stream",
          "text": [
            "Episode: 620, score: -1.250000, tmax: 160\n",
            "[-3. -1. -1.  0.  1. -2. -1. -3.]\n"
          ],
          "name": "stdout"
        },
        {
          "output_type": "stream",
          "text": [
            ""
          ],
          "name": "stderr"
        },
        {
          "output_type": "stream",
          "text": [
            "Episode: 640, score: -1.625000, tmax: 170\n",
            "[ 0.  0. -2. -4. -1. -4.  1. -3.]\n"
          ],
          "name": "stdout"
        },
        {
          "output_type": "stream",
          "text": [
            ""
          ],
          "name": "stderr"
        },
        {
          "output_type": "stream",
          "text": [
            "Episode: 660, score: -2.250000, tmax: 180\n",
            "[-4. -2.  0. -2. -3. -5.  0. -2.]\n"
          ],
          "name": "stdout"
        },
        {
          "output_type": "stream",
          "text": [
            ""
          ],
          "name": "stderr"
        },
        {
          "output_type": "stream",
          "text": [
            "Episode: 680, score: -1.625000, tmax: 190\n",
            "[-4. -2. -2. -1. -2.  1. -3.  0.]\n"
          ],
          "name": "stdout"
        },
        {
          "output_type": "stream",
          "text": [
            ""
          ],
          "name": "stderr"
        },
        {
          "output_type": "stream",
          "text": [
            "Episode: 700, score: -2.625000, tmax: 200\n",
            "[ 0. -2. -4. -5. -2. -2. -4. -2.]\n"
          ],
          "name": "stdout"
        },
        {
          "output_type": "stream",
          "text": [
            ""
          ],
          "name": "stderr"
        },
        {
          "output_type": "stream",
          "text": [
            "Episode: 720, score: -1.000000, tmax: 210\n",
            "[-1. -2. -3. -2.  0.  0.  0.  0.]\n"
          ],
          "name": "stdout"
        },
        {
          "output_type": "stream",
          "text": [
            ""
          ],
          "name": "stderr"
        },
        {
          "output_type": "stream",
          "text": [
            "Episode: 740, score: -0.875000, tmax: 220\n",
            "[ 0. -4.  0.  0. -2. -1.  0.  0.]\n"
          ],
          "name": "stdout"
        },
        {
          "output_type": "stream",
          "text": [
            ""
          ],
          "name": "stderr"
        },
        {
          "output_type": "stream",
          "text": [
            "Episode: 760, score: -0.375000, tmax: 230\n",
            "[-2.  0.  0.  0.  0.  0. -2.  1.]\n"
          ],
          "name": "stdout"
        },
        {
          "output_type": "stream",
          "text": [
            ""
          ],
          "name": "stderr"
        },
        {
          "output_type": "stream",
          "text": [
            "Episode: 780, score: -0.750000, tmax: 240\n",
            "[ 0.  0. -2. -2.  0. -2.  0.  0.]\n"
          ],
          "name": "stdout"
        },
        {
          "output_type": "stream",
          "text": [
            ""
          ],
          "name": "stderr"
        },
        {
          "output_type": "stream",
          "text": [
            "Episode: 800, score: 0.750000, tmax: 250\n",
            "[0. 1. 1. 1. 0. 0. 1. 2.]\n"
          ],
          "name": "stdout"
        },
        {
          "output_type": "stream",
          "text": [
            ""
          ],
          "name": "stderr"
        },
        {
          "output_type": "stream",
          "text": [
            "Episode: 820, score: 0.125000, tmax: 260\n",
            "[-3. -4.  3.  3.  3.  1.  1. -3.]\n"
          ],
          "name": "stdout"
        },
        {
          "output_type": "stream",
          "text": [
            ""
          ],
          "name": "stderr"
        },
        {
          "output_type": "stream",
          "text": [
            "Episode: 840, score: -0.375000, tmax: 270\n",
            "[-1.  2. -2.  1. -2.  2. -1. -2.]\n"
          ],
          "name": "stdout"
        },
        {
          "output_type": "stream",
          "text": [
            ""
          ],
          "name": "stderr"
        },
        {
          "output_type": "stream",
          "text": [
            "Episode: 860, score: 0.750000, tmax: 280\n",
            "[ 1.  2.  2. -3.  2.  2.  2. -2.]\n"
          ],
          "name": "stdout"
        },
        {
          "output_type": "stream",
          "text": [
            ""
          ],
          "name": "stderr"
        },
        {
          "output_type": "stream",
          "text": [
            "Episode: 880, score: 0.500000, tmax: 290\n",
            "[-5.  2.  2.  1.  2.  1.  2. -1.]\n"
          ],
          "name": "stdout"
        },
        {
          "output_type": "stream",
          "text": [
            ""
          ],
          "name": "stderr"
        },
        {
          "output_type": "stream",
          "text": [
            "Episode: 900, score: 2.000000, tmax: 300\n",
            "[2. 3. 2. 1. 2. 2. 2. 2.]\n"
          ],
          "name": "stdout"
        },
        {
          "output_type": "stream",
          "text": [
            ""
          ],
          "name": "stderr"
        },
        {
          "output_type": "stream",
          "text": [
            "Episode: 920, score: 0.875000, tmax: 310\n",
            "[ 2.  2.  2.  1.  2.  3. -7.  2.]\n"
          ],
          "name": "stdout"
        },
        {
          "output_type": "stream",
          "text": [
            ""
          ],
          "name": "stderr"
        },
        {
          "output_type": "stream",
          "text": [
            "Episode: 940, score: 1.000000, tmax: 320\n",
            "[-1.  2.  3.  1.  3. -4.  2.  2.]\n"
          ],
          "name": "stdout"
        },
        {
          "output_type": "stream",
          "text": [
            ""
          ],
          "name": "stderr"
        },
        {
          "output_type": "stream",
          "text": [
            "Episode: 960, score: 3.000000, tmax: 330\n",
            "[3. 3. 3. 3. 3. 3. 3. 3.]\n"
          ],
          "name": "stdout"
        },
        {
          "output_type": "stream",
          "text": [
            ""
          ],
          "name": "stderr"
        },
        {
          "output_type": "stream",
          "text": [
            "Episode: 980, score: 2.500000, tmax: 340\n",
            "[3. 3. 1. 3. 1. 3. 3. 3.]\n"
          ],
          "name": "stdout"
        },
        {
          "output_type": "stream",
          "text": [
            ""
          ],
          "name": "stderr"
        },
        {
          "output_type": "stream",
          "text": [
            "Episode: 1000, score: 1.625000, tmax: 350\n",
            "[ 3. -3.  3.  3.  3.  2. -1.  3.]\n"
          ],
          "name": "stdout"
        },
        {
          "output_type": "stream",
          "text": [
            ""
          ],
          "name": "stderr"
        },
        {
          "output_type": "stream",
          "text": [
            "Episode: 1020, score: 4.000000, tmax: 360\n",
            "[4. 4. 4. 4. 4. 4. 4. 4.]\n"
          ],
          "name": "stdout"
        },
        {
          "output_type": "stream",
          "text": [
            ""
          ],
          "name": "stderr"
        },
        {
          "output_type": "stream",
          "text": [
            "Episode: 1040, score: 3.375000, tmax: 370\n",
            "[4. 4. 4. 3. 2. 4. 4. 2.]\n"
          ],
          "name": "stdout"
        },
        {
          "output_type": "stream",
          "text": [
            ""
          ],
          "name": "stderr"
        },
        {
          "output_type": "stream",
          "text": [
            "Episode: 1060, score: 4.000000, tmax: 380\n",
            "[4. 4. 4. 4. 4. 4. 4. 4.]\n"
          ],
          "name": "stdout"
        },
        {
          "output_type": "stream",
          "text": [
            ""
          ],
          "name": "stderr"
        },
        {
          "output_type": "stream",
          "text": [
            "Episode: 1080, score: 4.000000, tmax: 390\n",
            "[4. 4. 4. 4. 4. 4. 4. 4.]\n"
          ],
          "name": "stdout"
        },
        {
          "output_type": "stream",
          "text": [
            ""
          ],
          "name": "stderr"
        },
        {
          "output_type": "stream",
          "text": [
            "Episode: 1100, score: 4.625000, tmax: 400\n",
            "[5. 5. 5. 5. 5. 2. 5. 5.]\n"
          ],
          "name": "stdout"
        },
        {
          "output_type": "stream",
          "text": [
            ""
          ],
          "name": "stderr"
        },
        {
          "output_type": "stream",
          "text": [
            "Episode: 1120, score: 4.000000, tmax: 410\n",
            "[3. 1. 5. 5. 3. 5. 5. 5.]\n"
          ],
          "name": "stdout"
        },
        {
          "output_type": "stream",
          "text": [
            ""
          ],
          "name": "stderr"
        },
        {
          "output_type": "stream",
          "text": [
            "Episode: 1140, score: 4.125000, tmax: 420\n",
            "[5. 5. 5. 3. 5. 0. 5. 5.]\n"
          ],
          "name": "stdout"
        },
        {
          "output_type": "stream",
          "text": [
            ""
          ],
          "name": "stderr"
        },
        {
          "output_type": "stream",
          "text": [
            "Episode: 1160, score: 5.000000, tmax: 430\n",
            "[5. 5. 5. 5. 5. 5. 5. 5.]\n"
          ],
          "name": "stdout"
        },
        {
          "output_type": "stream",
          "text": [
            ""
          ],
          "name": "stderr"
        },
        {
          "output_type": "stream",
          "text": [
            "Episode: 1180, score: 4.500000, tmax: 440\n",
            "[5. 5. 5. 5. 3. 5. 5. 3.]\n"
          ],
          "name": "stdout"
        },
        {
          "output_type": "stream",
          "text": [
            ""
          ],
          "name": "stderr"
        },
        {
          "output_type": "stream",
          "text": [
            "Episode: 1200, score: 3.875000, tmax: 450\n",
            "[4. 4. 4. 4. 4. 4. 3. 4.]\n"
          ],
          "name": "stdout"
        },
        {
          "output_type": "stream",
          "text": [
            ""
          ],
          "name": "stderr"
        },
        {
          "output_type": "stream",
          "text": [
            "Episode: 1220, score: 3.875000, tmax: 460\n",
            "[4. 4. 4. 4. 4. 3. 4. 4.]\n"
          ],
          "name": "stdout"
        },
        {
          "output_type": "stream",
          "text": [
            ""
          ],
          "name": "stderr"
        },
        {
          "output_type": "stream",
          "text": [
            "Episode: 1240, score: 0.750000, tmax: 470\n",
            "[  4.   4.   4.   4.   4.  -5. -13.   4.]\n"
          ],
          "name": "stdout"
        },
        {
          "output_type": "stream",
          "text": [
            ""
          ],
          "name": "stderr"
        },
        {
          "output_type": "stream",
          "text": [
            "Episode: 1260, score: 4.000000, tmax: 480\n",
            "[4. 4. 4. 4. 4. 4. 4. 4.]\n"
          ],
          "name": "stdout"
        },
        {
          "output_type": "stream",
          "text": [
            ""
          ],
          "name": "stderr"
        },
        {
          "output_type": "stream",
          "text": [
            "Episode: 1280, score: 4.000000, tmax: 490\n",
            "[4. 4. 4. 4. 4. 4. 4. 4.]\n"
          ],
          "name": "stdout"
        },
        {
          "output_type": "stream",
          "text": [
            ""
          ],
          "name": "stderr"
        },
        {
          "output_type": "stream",
          "text": [
            "Episode: 1300, score: 4.750000, tmax: 500\n",
            "[3. 5. 5. 5. 5. 5. 5. 5.]\n"
          ],
          "name": "stdout"
        },
        {
          "output_type": "stream",
          "text": [
            ""
          ],
          "name": "stderr"
        },
        {
          "output_type": "stream",
          "text": [
            "Episode: 1320, score: 5.000000, tmax: 510\n",
            "[5. 5. 5. 5. 5. 5. 5. 5.]\n"
          ],
          "name": "stdout"
        },
        {
          "output_type": "stream",
          "text": [
            ""
          ],
          "name": "stderr"
        },
        {
          "output_type": "stream",
          "text": [
            "Episode: 1340, score: 5.000000, tmax: 520\n",
            "[5. 5. 5. 5. 5. 5. 5. 5.]\n"
          ],
          "name": "stdout"
        },
        {
          "output_type": "stream",
          "text": [
            ""
          ],
          "name": "stderr"
        },
        {
          "output_type": "stream",
          "text": [
            "Episode: 1360, score: 5.000000, tmax: 530\n",
            "[5. 5. 5. 5. 5. 5. 5. 5.]\n"
          ],
          "name": "stdout"
        },
        {
          "output_type": "stream",
          "text": [
            ""
          ],
          "name": "stderr"
        },
        {
          "output_type": "stream",
          "text": [
            "Episode: 1380, score: 5.750000, tmax: 540\n",
            "[6. 6. 6. 6. 6. 6. 6. 4.]\n"
          ],
          "name": "stdout"
        },
        {
          "output_type": "stream",
          "text": [
            ""
          ],
          "name": "stderr"
        },
        {
          "output_type": "stream",
          "text": [
            "Episode: 1400, score: 5.750000, tmax: 550\n",
            "[6. 6. 6. 4. 6. 6. 6. 6.]\n"
          ],
          "name": "stdout"
        },
        {
          "output_type": "stream",
          "text": [
            ""
          ],
          "name": "stderr"
        },
        {
          "output_type": "stream",
          "text": [
            "Episode: 1420, score: 5.500000, tmax: 560\n",
            "[6. 6. 4. 4. 6. 6. 6. 6.]\n"
          ],
          "name": "stdout"
        },
        {
          "output_type": "stream",
          "text": [
            ""
          ],
          "name": "stderr"
        },
        {
          "output_type": "stream",
          "text": [
            "Episode: 1440, score: 5.750000, tmax: 570\n",
            "[6. 6. 6. 6. 6. 6. 4. 6.]\n"
          ],
          "name": "stdout"
        },
        {
          "output_type": "stream",
          "text": [
            ""
          ],
          "name": "stderr"
        },
        {
          "output_type": "stream",
          "text": [
            "Episode: 1460, score: 6.250000, tmax: 580\n",
            "[4. 7. 7. 4. 7. 7. 7. 7.]\n"
          ],
          "name": "stdout"
        },
        {
          "output_type": "stream",
          "text": [
            ""
          ],
          "name": "stderr"
        },
        {
          "output_type": "stream",
          "text": [
            "Episode: 1480, score: 4.375000, tmax: 590\n",
            "[  7.   7.   5.   7.   7.   7. -12.   7.]\n"
          ],
          "name": "stdout"
        },
        {
          "output_type": "stream",
          "text": [
            ""
          ],
          "name": "stderr"
        },
        {
          "output_type": "stream",
          "text": [
            "Episode: 1500, score: 6.375000, tmax: 600\n",
            "[7. 7. 7. 7. 7. 7. 2. 7.]\n"
          ],
          "name": "stdout"
        },
        {
          "output_type": "stream",
          "text": [
            ""
          ],
          "name": "stderr"
        },
        {
          "output_type": "stream",
          "text": [
            "Episode: 1520, score: 7.000000, tmax: 610\n",
            "[7. 7. 7. 7. 7. 7. 7. 7.]\n"
          ],
          "name": "stdout"
        },
        {
          "output_type": "stream",
          "text": [
            ""
          ],
          "name": "stderr"
        },
        {
          "output_type": "stream",
          "text": [
            "Episode: 1540, score: 7.000000, tmax: 620\n",
            "[7. 7. 7. 7. 7. 7. 7. 7.]\n"
          ],
          "name": "stdout"
        },
        {
          "output_type": "stream",
          "text": [
            ""
          ],
          "name": "stderr"
        },
        {
          "output_type": "stream",
          "text": [
            "Episode: 1560, score: 6.000000, tmax: 630\n",
            "[6. 6. 6. 6. 6. 6. 6. 6.]\n"
          ],
          "name": "stdout"
        },
        {
          "output_type": "stream",
          "text": [
            ""
          ],
          "name": "stderr"
        },
        {
          "output_type": "stream",
          "text": [
            "Episode: 1580, score: 6.000000, tmax: 640\n",
            "[6. 6. 6. 6. 6. 6. 6. 6.]\n"
          ],
          "name": "stdout"
        },
        {
          "output_type": "stream",
          "text": [
            ""
          ],
          "name": "stderr"
        },
        {
          "output_type": "stream",
          "text": [
            "Episode: 1600, score: 6.125000, tmax: 650\n",
            "[6. 6. 6. 6. 6. 6. 7. 6.]\n"
          ],
          "name": "stdout"
        },
        {
          "output_type": "stream",
          "text": [
            ""
          ],
          "name": "stderr"
        },
        {
          "output_type": "stream",
          "text": [
            "Episode: 1620, score: 6.000000, tmax: 660\n",
            "[6. 6. 6. 6. 6. 6. 6. 6.]\n"
          ],
          "name": "stdout"
        },
        {
          "output_type": "stream",
          "text": [
            ""
          ],
          "name": "stderr"
        },
        {
          "output_type": "stream",
          "text": [
            "Episode: 1640, score: 6.125000, tmax: 670\n",
            "[6. 6. 6. 6. 6. 6. 7. 6.]\n"
          ],
          "name": "stdout"
        },
        {
          "output_type": "stream",
          "text": [
            ""
          ],
          "name": "stderr"
        },
        {
          "output_type": "stream",
          "text": [
            "Episode: 1660, score: 7.000000, tmax: 680\n",
            "[7. 7. 7. 7. 7. 7. 7. 7.]\n"
          ],
          "name": "stdout"
        },
        {
          "output_type": "stream",
          "text": [
            ""
          ],
          "name": "stderr"
        },
        {
          "output_type": "stream",
          "text": [
            "Episode: 1680, score: 7.000000, tmax: 690\n",
            "[7. 7. 7. 7. 7. 7. 7. 7.]\n"
          ],
          "name": "stdout"
        },
        {
          "output_type": "stream",
          "text": [
            ""
          ],
          "name": "stderr"
        },
        {
          "output_type": "stream",
          "text": [
            "Episode: 1700, score: 7.000000, tmax: 700\n",
            "[7. 7. 7. 7. 7. 7. 7. 7.]\n"
          ],
          "name": "stdout"
        },
        {
          "output_type": "stream",
          "text": [
            ""
          ],
          "name": "stderr"
        },
        {
          "output_type": "stream",
          "text": [
            "Episode: 1720, score: 7.000000, tmax: 710\n",
            "[7. 7. 7. 7. 7. 7. 7. 7.]\n"
          ],
          "name": "stdout"
        },
        {
          "output_type": "stream",
          "text": [
            ""
          ],
          "name": "stderr"
        },
        {
          "output_type": "stream",
          "text": [
            "Episode: 1740, score: 7.750000, tmax: 720\n",
            "[8. 8. 8. 8. 8. 8. 6. 8.]\n"
          ],
          "name": "stdout"
        },
        {
          "output_type": "stream",
          "text": [
            "Process Process-25:\n",
            "Process Process-23:\n",
            "Process Process-21:\n",
            "Traceback (most recent call last):\n",
            "Process Process-28:\n",
            "Process Process-24:\n",
            "Process Process-22:\n",
            "Process Process-27:\n",
            "Traceback (most recent call last):\n",
            "Traceback (most recent call last):\n",
            "Traceback (most recent call last):\n",
            "  File \"/usr/lib/python3.6/multiprocessing/process.py\", line 258, in _bootstrap\n",
            "    self.run()\n",
            "  File \"/usr/lib/python3.6/multiprocessing/process.py\", line 258, in _bootstrap\n",
            "    self.run()\n",
            "Traceback (most recent call last):\n",
            "Traceback (most recent call last):\n",
            "Process Process-26:\n",
            "  File \"/usr/lib/python3.6/multiprocessing/process.py\", line 258, in _bootstrap\n",
            "    self.run()\n",
            "  File \"/usr/lib/python3.6/multiprocessing/process.py\", line 258, in _bootstrap\n",
            "    self.run()\n",
            "Traceback (most recent call last):\n",
            "  File \"/usr/lib/python3.6/multiprocessing/process.py\", line 93, in run\n",
            "    self._target(*self._args, **self._kwargs)\n",
            "  File \"/usr/lib/python3.6/multiprocessing/process.py\", line 258, in _bootstrap\n",
            "    self.run()\n",
            "  File \"/usr/lib/python3.6/multiprocessing/process.py\", line 93, in run\n",
            "    self._target(*self._args, **self._kwargs)\n",
            "  File \"/usr/lib/python3.6/multiprocessing/process.py\", line 258, in _bootstrap\n",
            "    self.run()\n",
            "  File \"/usr/lib/python3.6/multiprocessing/process.py\", line 93, in run\n",
            "    self._target(*self._args, **self._kwargs)\n",
            "  File \"/usr/lib/python3.6/multiprocessing/process.py\", line 258, in _bootstrap\n",
            "    self.run()\n",
            "Traceback (most recent call last):\n",
            "  File \"/usr/lib/python3.6/multiprocessing/process.py\", line 93, in run\n",
            "    self._target(*self._args, **self._kwargs)\n",
            "  File \"/usr/lib/python3.6/multiprocessing/process.py\", line 258, in _bootstrap\n",
            "    self.run()\n",
            "  File \"/usr/lib/python3.6/multiprocessing/process.py\", line 93, in run\n",
            "    self._target(*self._args, **self._kwargs)\n",
            "  File \"/content/parallelEnv.py\", line 104, in worker\n",
            "    cmd, data = remote.recv()\n",
            "  File \"/content/parallelEnv.py\", line 106, in worker\n",
            "    ob, reward, done, info = env.step(data)\n",
            "  File \"/content/parallelEnv.py\", line 106, in worker\n",
            "    ob, reward, done, info = env.step(data)\n",
            "  File \"/usr/lib/python3.6/multiprocessing/process.py\", line 93, in run\n",
            "    self._target(*self._args, **self._kwargs)\n",
            "  File \"/content/parallelEnv.py\", line 104, in worker\n",
            "    cmd, data = remote.recv()\n",
            "  File \"/content/parallelEnv.py\", line 104, in worker\n",
            "    cmd, data = remote.recv()\n",
            "  File \"/usr/lib/python3.6/multiprocessing/process.py\", line 93, in run\n",
            "    self._target(*self._args, **self._kwargs)\n",
            "  File \"/usr/lib/python3.6/multiprocessing/connection.py\", line 250, in recv\n",
            "    buf = self._recv_bytes()\n",
            "  File \"/usr/local/lib/python3.6/dist-packages/gym/wrappers/time_limit.py\", line 16, in step\n",
            "    observation, reward, done, info = self.env.step(action)\n",
            "  File \"/usr/lib/python3.6/multiprocessing/process.py\", line 93, in run\n",
            "    self._target(*self._args, **self._kwargs)\n",
            "  File \"/usr/local/lib/python3.6/dist-packages/gym/wrappers/time_limit.py\", line 16, in step\n",
            "    observation, reward, done, info = self.env.step(action)\n",
            "  File \"/content/parallelEnv.py\", line 106, in worker\n",
            "    ob, reward, done, info = env.step(data)\n",
            "  File \"/usr/lib/python3.6/multiprocessing/connection.py\", line 250, in recv\n",
            "    buf = self._recv_bytes()\n",
            "  File \"/content/parallelEnv.py\", line 104, in worker\n",
            "    cmd, data = remote.recv()\n",
            "  File \"/usr/lib/python3.6/multiprocessing/connection.py\", line 407, in _recv_bytes\n",
            "    buf = self._recv(4)\n",
            "  File \"/usr/lib/python3.6/multiprocessing/connection.py\", line 250, in recv\n",
            "    buf = self._recv_bytes()\n",
            "  File \"/content/parallelEnv.py\", line 104, in worker\n",
            "    cmd, data = remote.recv()\n",
            "  File \"/usr/local/lib/python3.6/dist-packages/gym/envs/atari/atari_env.py\", line 113, in step\n",
            "    action = self._action_set[a]\n",
            "  File \"/usr/local/lib/python3.6/dist-packages/gym/envs/atari/atari_env.py\", line 120, in step\n",
            "    reward += self.ale.act(action)\n",
            "  File \"/usr/lib/python3.6/multiprocessing/connection.py\", line 407, in _recv_bytes\n",
            "    buf = self._recv(4)\n",
            "  File \"/usr/local/lib/python3.6/dist-packages/gym/wrappers/time_limit.py\", line 16, in step\n",
            "    observation, reward, done, info = self.env.step(action)\n",
            "  File \"/usr/lib/python3.6/multiprocessing/connection.py\", line 250, in recv\n",
            "    buf = self._recv_bytes()\n",
            "  File \"/usr/lib/python3.6/multiprocessing/connection.py\", line 407, in _recv_bytes\n",
            "    buf = self._recv(4)\n",
            "  File \"/usr/local/lib/python3.6/dist-packages/atari_py/ale_python_interface.py\", line 152, in act\n",
            "    return ale_lib.act(self.obj, int(action))\n",
            "  File \"/usr/lib/python3.6/multiprocessing/connection.py\", line 250, in recv\n",
            "    buf = self._recv_bytes()\n",
            "KeyboardInterrupt\n",
            "  File \"/usr/lib/python3.6/multiprocessing/connection.py\", line 379, in _recv\n",
            "    chunk = read(handle, remaining)\n",
            "  File \"/usr/lib/python3.6/multiprocessing/connection.py\", line 379, in _recv\n",
            "    chunk = read(handle, remaining)\n",
            "  File \"/usr/lib/python3.6/multiprocessing/connection.py\", line 379, in _recv\n",
            "    chunk = read(handle, remaining)\n",
            "KeyboardInterrupt\n",
            "  File \"/usr/local/lib/python3.6/dist-packages/gym/envs/atari/atari_env.py\", line 120, in step\n",
            "    reward += self.ale.act(action)\n",
            "  File \"/usr/lib/python3.6/multiprocessing/connection.py\", line 407, in _recv_bytes\n",
            "    buf = self._recv(4)\n",
            "KeyboardInterrupt\n",
            "  File \"/usr/local/lib/python3.6/dist-packages/atari_py/ale_python_interface.py\", line 152, in act\n",
            "    return ale_lib.act(self.obj, int(action))\n",
            "  File \"/usr/lib/python3.6/multiprocessing/connection.py\", line 379, in _recv\n",
            "    chunk = read(handle, remaining)\n",
            "  File \"/usr/lib/python3.6/multiprocessing/connection.py\", line 407, in _recv_bytes\n",
            "    buf = self._recv(4)\n",
            "KeyboardInterrupt\n",
            "KeyboardInterrupt\n",
            "KeyboardInterrupt\n",
            "KeyboardInterrupt\n",
            "  File \"/usr/lib/python3.6/multiprocessing/connection.py\", line 379, in _recv\n",
            "    chunk = read(handle, remaining)\n"
          ],
          "name": "stderr"
        },
        {
          "output_type": "error",
          "ename": "KeyboardInterrupt",
          "evalue": "ignored",
          "traceback": [
            "\u001b[0;31m---------------------------------------------------------------------------\u001b[0m",
            "\u001b[0;31mKeyboardInterrupt\u001b[0m                         Traceback (most recent call last)",
            "\u001b[0;32m<ipython-input-12-75db250aabe1>\u001b[0m in \u001b[0;36m<module>\u001b[0;34m()\u001b[0m\n\u001b[1;32m     28\u001b[0m \u001b[0;34m\u001b[0m\u001b[0m\n\u001b[1;32m     29\u001b[0m     \u001b[0;31m# collect trajectories\u001b[0m\u001b[0;34m\u001b[0m\u001b[0;34m\u001b[0m\u001b[0;34m\u001b[0m\u001b[0m\n\u001b[0;32m---> 30\u001b[0;31m     \u001b[0mold_probs\u001b[0m\u001b[0;34m,\u001b[0m \u001b[0mstates\u001b[0m\u001b[0;34m,\u001b[0m \u001b[0mactions\u001b[0m\u001b[0;34m,\u001b[0m \u001b[0mrewards\u001b[0m \u001b[0;34m=\u001b[0m         \u001b[0mpong_utils\u001b[0m\u001b[0;34m.\u001b[0m\u001b[0mcollect_trajectories\u001b[0m\u001b[0;34m(\u001b[0m\u001b[0menvs\u001b[0m\u001b[0;34m,\u001b[0m \u001b[0mpolicy\u001b[0m\u001b[0;34m,\u001b[0m \u001b[0mtmax\u001b[0m\u001b[0;34m=\u001b[0m\u001b[0mtmax\u001b[0m\u001b[0;34m)\u001b[0m\u001b[0;34m\u001b[0m\u001b[0;34m\u001b[0m\u001b[0m\n\u001b[0m\u001b[1;32m     31\u001b[0m \u001b[0;34m\u001b[0m\u001b[0m\n\u001b[1;32m     32\u001b[0m     \u001b[0mtotal_rewards\u001b[0m \u001b[0;34m=\u001b[0m \u001b[0mnp\u001b[0m\u001b[0;34m.\u001b[0m\u001b[0msum\u001b[0m\u001b[0;34m(\u001b[0m\u001b[0mrewards\u001b[0m\u001b[0;34m,\u001b[0m \u001b[0maxis\u001b[0m\u001b[0;34m=\u001b[0m\u001b[0;36m0\u001b[0m\u001b[0;34m)\u001b[0m\u001b[0;34m\u001b[0m\u001b[0;34m\u001b[0m\u001b[0m\n",
            "\u001b[0;32m/content/pong_utils.py\u001b[0m in \u001b[0;36mcollect_trajectories\u001b[0;34m(envs, policy, tmax, nrand)\u001b[0m\n\u001b[1;32m    173\u001b[0m         \u001b[0;31m# advance the game (0=no action)\u001b[0m\u001b[0;34m\u001b[0m\u001b[0;34m\u001b[0m\u001b[0;34m\u001b[0m\u001b[0m\n\u001b[1;32m    174\u001b[0m         \u001b[0;31m# we take one action and skip game forward\u001b[0m\u001b[0;34m\u001b[0m\u001b[0;34m\u001b[0m\u001b[0;34m\u001b[0m\u001b[0m\n\u001b[0;32m--> 175\u001b[0;31m         \u001b[0mfr1\u001b[0m\u001b[0;34m,\u001b[0m \u001b[0mre1\u001b[0m\u001b[0;34m,\u001b[0m \u001b[0mis_done\u001b[0m\u001b[0;34m,\u001b[0m \u001b[0m_\u001b[0m \u001b[0;34m=\u001b[0m \u001b[0menvs\u001b[0m\u001b[0;34m.\u001b[0m\u001b[0mstep\u001b[0m\u001b[0;34m(\u001b[0m\u001b[0maction\u001b[0m\u001b[0;34m)\u001b[0m\u001b[0;34m\u001b[0m\u001b[0;34m\u001b[0m\u001b[0m\n\u001b[0m\u001b[1;32m    176\u001b[0m         \u001b[0mfr2\u001b[0m\u001b[0;34m,\u001b[0m \u001b[0mre2\u001b[0m\u001b[0;34m,\u001b[0m \u001b[0mis_done\u001b[0m\u001b[0;34m,\u001b[0m \u001b[0m_\u001b[0m \u001b[0;34m=\u001b[0m \u001b[0menvs\u001b[0m\u001b[0;34m.\u001b[0m\u001b[0mstep\u001b[0m\u001b[0;34m(\u001b[0m\u001b[0;34m[\u001b[0m\u001b[0;36m0\u001b[0m\u001b[0;34m]\u001b[0m\u001b[0;34m*\u001b[0m\u001b[0mn\u001b[0m\u001b[0;34m)\u001b[0m\u001b[0;34m\u001b[0m\u001b[0;34m\u001b[0m\u001b[0m\n\u001b[1;32m    177\u001b[0m \u001b[0;34m\u001b[0m\u001b[0m\n",
            "\u001b[0;32m/content/parallelEnv.py\u001b[0m in \u001b[0;36mstep\u001b[0;34m(self, actions)\u001b[0m\n\u001b[1;32m     83\u001b[0m         \u001b[0mThis\u001b[0m \u001b[0;32mis\u001b[0m \u001b[0mavailable\u001b[0m \u001b[0;32mfor\u001b[0m \u001b[0mbackwards\u001b[0m \u001b[0mcompatibility\u001b[0m\u001b[0;34m.\u001b[0m\u001b[0;34m\u001b[0m\u001b[0;34m\u001b[0m\u001b[0m\n\u001b[1;32m     84\u001b[0m         \"\"\"\n\u001b[0;32m---> 85\u001b[0;31m         \u001b[0mself\u001b[0m\u001b[0;34m.\u001b[0m\u001b[0mstep_async\u001b[0m\u001b[0;34m(\u001b[0m\u001b[0mactions\u001b[0m\u001b[0;34m)\u001b[0m\u001b[0;34m\u001b[0m\u001b[0;34m\u001b[0m\u001b[0m\n\u001b[0m\u001b[1;32m     86\u001b[0m         \u001b[0;32mreturn\u001b[0m \u001b[0mself\u001b[0m\u001b[0;34m.\u001b[0m\u001b[0mstep_wait\u001b[0m\u001b[0;34m(\u001b[0m\u001b[0;34m)\u001b[0m\u001b[0;34m\u001b[0m\u001b[0;34m\u001b[0m\u001b[0m\n\u001b[1;32m     87\u001b[0m \u001b[0;34m\u001b[0m\u001b[0m\n",
            "\u001b[0;32m/content/parallelEnv.py\u001b[0m in \u001b[0;36mstep_async\u001b[0;34m(self, actions)\u001b[0m\n\u001b[1;32m    156\u001b[0m     \u001b[0;32mdef\u001b[0m \u001b[0mstep_async\u001b[0m\u001b[0;34m(\u001b[0m\u001b[0mself\u001b[0m\u001b[0;34m,\u001b[0m \u001b[0mactions\u001b[0m\u001b[0;34m)\u001b[0m\u001b[0;34m:\u001b[0m\u001b[0;34m\u001b[0m\u001b[0;34m\u001b[0m\u001b[0m\n\u001b[1;32m    157\u001b[0m         \u001b[0;32mfor\u001b[0m \u001b[0mremote\u001b[0m\u001b[0;34m,\u001b[0m \u001b[0maction\u001b[0m \u001b[0;32min\u001b[0m \u001b[0mzip\u001b[0m\u001b[0;34m(\u001b[0m\u001b[0mself\u001b[0m\u001b[0;34m.\u001b[0m\u001b[0mremotes\u001b[0m\u001b[0;34m,\u001b[0m \u001b[0mactions\u001b[0m\u001b[0;34m)\u001b[0m\u001b[0;34m:\u001b[0m\u001b[0;34m\u001b[0m\u001b[0;34m\u001b[0m\u001b[0m\n\u001b[0;32m--> 158\u001b[0;31m             \u001b[0mremote\u001b[0m\u001b[0;34m.\u001b[0m\u001b[0msend\u001b[0m\u001b[0;34m(\u001b[0m\u001b[0;34m(\u001b[0m\u001b[0;34m'step'\u001b[0m\u001b[0;34m,\u001b[0m \u001b[0maction\u001b[0m\u001b[0;34m)\u001b[0m\u001b[0;34m)\u001b[0m\u001b[0;34m\u001b[0m\u001b[0;34m\u001b[0m\u001b[0m\n\u001b[0m\u001b[1;32m    159\u001b[0m         \u001b[0mself\u001b[0m\u001b[0;34m.\u001b[0m\u001b[0mwaiting\u001b[0m \u001b[0;34m=\u001b[0m \u001b[0;32mTrue\u001b[0m\u001b[0;34m\u001b[0m\u001b[0;34m\u001b[0m\u001b[0m\n\u001b[1;32m    160\u001b[0m \u001b[0;34m\u001b[0m\u001b[0m\n",
            "\u001b[0;32m/usr/lib/python3.6/multiprocessing/connection.py\u001b[0m in \u001b[0;36msend\u001b[0;34m(self, obj)\u001b[0m\n\u001b[1;32m    204\u001b[0m         \u001b[0mself\u001b[0m\u001b[0;34m.\u001b[0m\u001b[0m_check_closed\u001b[0m\u001b[0;34m(\u001b[0m\u001b[0;34m)\u001b[0m\u001b[0;34m\u001b[0m\u001b[0;34m\u001b[0m\u001b[0m\n\u001b[1;32m    205\u001b[0m         \u001b[0mself\u001b[0m\u001b[0;34m.\u001b[0m\u001b[0m_check_writable\u001b[0m\u001b[0;34m(\u001b[0m\u001b[0;34m)\u001b[0m\u001b[0;34m\u001b[0m\u001b[0;34m\u001b[0m\u001b[0m\n\u001b[0;32m--> 206\u001b[0;31m         \u001b[0mself\u001b[0m\u001b[0;34m.\u001b[0m\u001b[0m_send_bytes\u001b[0m\u001b[0;34m(\u001b[0m\u001b[0m_ForkingPickler\u001b[0m\u001b[0;34m.\u001b[0m\u001b[0mdumps\u001b[0m\u001b[0;34m(\u001b[0m\u001b[0mobj\u001b[0m\u001b[0;34m)\u001b[0m\u001b[0;34m)\u001b[0m\u001b[0;34m\u001b[0m\u001b[0;34m\u001b[0m\u001b[0m\n\u001b[0m\u001b[1;32m    207\u001b[0m \u001b[0;34m\u001b[0m\u001b[0m\n\u001b[1;32m    208\u001b[0m     \u001b[0;32mdef\u001b[0m \u001b[0mrecv_bytes\u001b[0m\u001b[0;34m(\u001b[0m\u001b[0mself\u001b[0m\u001b[0;34m,\u001b[0m \u001b[0mmaxlength\u001b[0m\u001b[0;34m=\u001b[0m\u001b[0;32mNone\u001b[0m\u001b[0;34m)\u001b[0m\u001b[0;34m:\u001b[0m\u001b[0;34m\u001b[0m\u001b[0;34m\u001b[0m\u001b[0m\n",
            "\u001b[0;32m/usr/lib/python3.6/multiprocessing/connection.py\u001b[0m in \u001b[0;36m_send_bytes\u001b[0;34m(self, buf)\u001b[0m\n\u001b[1;32m    402\u001b[0m             \u001b[0;31m# Also note we want to avoid sending a 0-length buffer separately,\u001b[0m\u001b[0;34m\u001b[0m\u001b[0;34m\u001b[0m\u001b[0;34m\u001b[0m\u001b[0m\n\u001b[1;32m    403\u001b[0m             \u001b[0;31m# to avoid \"broken pipe\" errors if the other end closed the pipe.\u001b[0m\u001b[0;34m\u001b[0m\u001b[0;34m\u001b[0m\u001b[0;34m\u001b[0m\u001b[0m\n\u001b[0;32m--> 404\u001b[0;31m             \u001b[0mself\u001b[0m\u001b[0;34m.\u001b[0m\u001b[0m_send\u001b[0m\u001b[0;34m(\u001b[0m\u001b[0mheader\u001b[0m \u001b[0;34m+\u001b[0m \u001b[0mbuf\u001b[0m\u001b[0;34m)\u001b[0m\u001b[0;34m\u001b[0m\u001b[0;34m\u001b[0m\u001b[0m\n\u001b[0m\u001b[1;32m    405\u001b[0m \u001b[0;34m\u001b[0m\u001b[0m\n\u001b[1;32m    406\u001b[0m     \u001b[0;32mdef\u001b[0m \u001b[0m_recv_bytes\u001b[0m\u001b[0;34m(\u001b[0m\u001b[0mself\u001b[0m\u001b[0;34m,\u001b[0m \u001b[0mmaxsize\u001b[0m\u001b[0;34m=\u001b[0m\u001b[0;32mNone\u001b[0m\u001b[0;34m)\u001b[0m\u001b[0;34m:\u001b[0m\u001b[0;34m\u001b[0m\u001b[0;34m\u001b[0m\u001b[0m\n",
            "\u001b[0;32m/usr/lib/python3.6/multiprocessing/connection.py\u001b[0m in \u001b[0;36m_send\u001b[0;34m(self, buf, write)\u001b[0m\n\u001b[1;32m    366\u001b[0m         \u001b[0mremaining\u001b[0m \u001b[0;34m=\u001b[0m \u001b[0mlen\u001b[0m\u001b[0;34m(\u001b[0m\u001b[0mbuf\u001b[0m\u001b[0;34m)\u001b[0m\u001b[0;34m\u001b[0m\u001b[0;34m\u001b[0m\u001b[0m\n\u001b[1;32m    367\u001b[0m         \u001b[0;32mwhile\u001b[0m \u001b[0;32mTrue\u001b[0m\u001b[0;34m:\u001b[0m\u001b[0;34m\u001b[0m\u001b[0;34m\u001b[0m\u001b[0m\n\u001b[0;32m--> 368\u001b[0;31m             \u001b[0mn\u001b[0m \u001b[0;34m=\u001b[0m \u001b[0mwrite\u001b[0m\u001b[0;34m(\u001b[0m\u001b[0mself\u001b[0m\u001b[0;34m.\u001b[0m\u001b[0m_handle\u001b[0m\u001b[0;34m,\u001b[0m \u001b[0mbuf\u001b[0m\u001b[0;34m)\u001b[0m\u001b[0;34m\u001b[0m\u001b[0;34m\u001b[0m\u001b[0m\n\u001b[0m\u001b[1;32m    369\u001b[0m             \u001b[0mremaining\u001b[0m \u001b[0;34m-=\u001b[0m \u001b[0mn\u001b[0m\u001b[0;34m\u001b[0m\u001b[0;34m\u001b[0m\u001b[0m\n\u001b[1;32m    370\u001b[0m             \u001b[0;32mif\u001b[0m \u001b[0mremaining\u001b[0m \u001b[0;34m==\u001b[0m \u001b[0;36m0\u001b[0m\u001b[0;34m:\u001b[0m\u001b[0;34m\u001b[0m\u001b[0;34m\u001b[0m\u001b[0m\n",
            "\u001b[0;31mKeyboardInterrupt\u001b[0m: "
          ]
        },
        {
          "output_type": "stream",
          "text": [
            "KeyboardInterrupt\n"
          ],
          "name": "stderr"
        }
      ]
    },
    {
      "cell_type": "code",
      "metadata": {
        "id": "C6Ef4AJ1KXVa",
        "colab_type": "code",
        "colab": {}
      },
      "source": [
        "# save your policy!\n",
        "torch.save(policy, 'REINFORCE.policy')"
      ],
      "execution_count": 13,
      "outputs": []
    },
    {
      "cell_type": "code",
      "metadata": {
        "id": "gmsKKbMwwy9F",
        "colab_type": "code",
        "colab": {}
      },
      "source": [
        "import torch\n",
        "policy = torch.load('REINFORCE.policy', map_location=torch.device('cpu'))"
      ],
      "execution_count": 17,
      "outputs": []
    },
    {
      "cell_type": "code",
      "metadata": {
        "id": "qNhUehD56IX-",
        "colab_type": "code",
        "colab": {}
      },
      "source": [
        "prob, state, action, reward = pong_utils.collect_trajectories(envs, policy, tmax=2000)"
      ],
      "execution_count": 18,
      "outputs": []
    },
    {
      "cell_type": "code",
      "metadata": {
        "id": "DzQikw7H98kc",
        "colab_type": "code",
        "colab": {
          "base_uri": "https://localhost:8080/",
          "height": 493
        },
        "outputId": "68b46dd3-a82f-420f-da12-18c687a3efaf"
      },
      "source": [
        "[(x[0], x[1]) for x in reward if x[0] !=  0]"
      ],
      "execution_count": 19,
      "outputs": [
        {
          "output_type": "execute_result",
          "data": {
            "text/plain": [
              "[(1.0, 1.0),\n",
              " (-1.0, -1.0),\n",
              " (1.0, 1.0),\n",
              " (1.0, 1.0),\n",
              " (1.0, 1.0),\n",
              " (-1.0, -1.0),\n",
              " (1.0, 1.0),\n",
              " (1.0, 1.0),\n",
              " (1.0, 1.0),\n",
              " (-1.0, -1.0),\n",
              " (1.0, 1.0),\n",
              " (1.0, 1.0),\n",
              " (1.0, 1.0),\n",
              " (-1.0, -1.0),\n",
              " (1.0, 1.0),\n",
              " (1.0, 1.0),\n",
              " (1.0, 1.0),\n",
              " (-1.0, -1.0),\n",
              " (1.0, 1.0),\n",
              " (1.0, 1.0),\n",
              " (1.0, 1.0),\n",
              " (-1.0, -1.0),\n",
              " (1.0, 1.0),\n",
              " (1.0, 1.0),\n",
              " (1.0, 1.0),\n",
              " (-1.0, -1.0),\n",
              " (1.0, 1.0),\n",
              " (1.0, 1.0)]"
            ]
          },
          "metadata": {
            "tags": []
          },
          "execution_count": 19
        }
      ]
    },
    {
      "cell_type": "code",
      "metadata": {
        "id": "64vlzYw--Soq",
        "colab_type": "code",
        "colab": {
          "base_uri": "https://localhost:8080/",
          "height": 35
        },
        "outputId": "6de8a8ca-57e7-46a4-c083-324cc68725dc"
      },
      "source": [
        "torch.__version__"
      ],
      "execution_count": 20,
      "outputs": [
        {
          "output_type": "execute_result",
          "data": {
            "application/vnd.google.colaboratory.intrinsic+json": {
              "type": "string"
            },
            "text/plain": [
              "'1.6.0+cu101'"
            ]
          },
          "metadata": {
            "tags": []
          },
          "execution_count": 20
        }
      ]
    },
    {
      "cell_type": "code",
      "metadata": {
        "id": "cZaQdrOxNH8m",
        "colab_type": "code",
        "colab": {}
      },
      "source": [
        ""
      ],
      "execution_count": null,
      "outputs": []
    }
  ]
}