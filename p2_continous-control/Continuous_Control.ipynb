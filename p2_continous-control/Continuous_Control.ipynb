{
 "cells": [
  {
   "cell_type": "markdown",
   "metadata": {},
   "source": [
    "# Continuous Control\n",
    "\n",
    "---\n",
    "\n",
    "You are welcome to use this coding environment to train your agent for the project.  Follow the instructions below to get started!\n",
    "\n",
    "### 1. Start the Environment\n",
    "\n",
    "Run the next code cell to install a few packages.  This line will take a few minutes to run!"
   ]
  },
  {
   "cell_type": "code",
   "execution_count": 1,
   "metadata": {},
   "outputs": [
    {
     "name": "stdout",
     "output_type": "stream",
     "text": [
      "File ‘workspace_utils.py’ already there; not retrieving.\r\n",
      "\r\n"
     ]
    }
   ],
   "source": [
    "!wget -nc https://raw.githubusercontent.com/udacity/workspaces-student-support/master/jupyter/workspace_utils.py"
   ]
  },
  {
   "cell_type": "code",
   "execution_count": 1,
   "metadata": {},
   "outputs": [
    {
     "name": "stdout",
     "output_type": "stream",
     "text": [
      "\u001b[31mtensorflow 1.7.1 has requirement numpy>=1.13.3, but you'll have numpy 1.12.1 which is incompatible.\u001b[0m\r\n",
      "\u001b[31mipython 6.5.0 has requirement prompt-toolkit<2.0.0,>=1.0.15, but you'll have prompt-toolkit 3.0.7 which is incompatible.\u001b[0m\r\n"
     ]
    }
   ],
   "source": [
    "!pip -q install ./python"
   ]
  },
  {
   "cell_type": "markdown",
   "metadata": {},
   "source": [
    "The environments corresponding to both versions of the environment are already saved in the Workspace and can be accessed at the file paths provided below.  \n",
    "\n",
    "Please select one of the two options below for loading the environment."
   ]
  },
  {
   "cell_type": "code",
   "execution_count": 6,
   "metadata": {},
   "outputs": [
    {
     "name": "stderr",
     "output_type": "stream",
     "text": [
      "INFO:unityagents:\n",
      "'Academy' started successfully!\n",
      "Unity Academy name: Academy\n",
      "        Number of Brains: 1\n",
      "        Number of External Brains : 1\n",
      "        Lesson number : 0\n",
      "        Reset Parameters :\n",
      "\t\tgoal_speed -> 1.0\n",
      "\t\tgoal_size -> 5.0\n",
      "Unity brain name: ReacherBrain\n",
      "        Number of Visual Observations (per agent): 0\n",
      "        Vector Observation space type: continuous\n",
      "        Vector Observation space size (per agent): 33\n",
      "        Number of stacked Vector Observation: 1\n",
      "        Vector Action space type: continuous\n",
      "        Vector Action space size (per agent): 4\n",
      "        Vector Action descriptions: , , , \n"
     ]
    }
   ],
   "source": [
    "from unityagents import UnityEnvironment\n",
    "import numpy as np\n",
    "\n",
    "# select this option to load version 1 (with a single agent) of the environment\n",
    "#env = UnityEnvironment(file_name='/data/Reacher_One_Linux_NoVis/Reacher_One_Linux_NoVis.x86_64')\n",
    "\n",
    "# select this option to load version 2 (with 20 agents) of the environment\n",
    "env = UnityEnvironment(file_name='/data/Reacher_Linux_NoVis/Reacher.x86_64')"
   ]
  },
  {
   "cell_type": "markdown",
   "metadata": {},
   "source": [
    "Environments contain **_brains_** which are responsible for deciding the actions of their associated agents. Here we check for the first brain available, and set it as the default brain we will be controlling from Python."
   ]
  },
  {
   "cell_type": "code",
   "execution_count": 3,
   "metadata": {},
   "outputs": [],
   "source": [
    "# get the default brain\n",
    "brain_name = env.brain_names[0]\n",
    "brain = env.brains[brain_name]"
   ]
  },
  {
   "cell_type": "code",
   "execution_count": 29,
   "metadata": {},
   "outputs": [],
   "source": [
    "env.close()"
   ]
  },
  {
   "cell_type": "markdown",
   "metadata": {},
   "source": [
    "### 2. Examine the State and Action Spaces\n",
    "\n",
    "Run the code cell below to print some information about the environment."
   ]
  },
  {
   "cell_type": "code",
   "execution_count": 4,
   "metadata": {},
   "outputs": [
    {
     "name": "stdout",
     "output_type": "stream",
     "text": [
      "Number of agents: 20\n",
      "Size of each action: 4\n",
      "There are 20 agents. Each observes a state with length: 33\n",
      "The state for the first agent looks like: [  0.00000000e+00  -4.00000000e+00   0.00000000e+00   1.00000000e+00\n",
      "  -0.00000000e+00  -0.00000000e+00  -4.37113883e-08   0.00000000e+00\n",
      "   0.00000000e+00   0.00000000e+00   0.00000000e+00   0.00000000e+00\n",
      "   0.00000000e+00   0.00000000e+00  -1.00000000e+01   0.00000000e+00\n",
      "   1.00000000e+00  -0.00000000e+00  -0.00000000e+00  -4.37113883e-08\n",
      "   0.00000000e+00   0.00000000e+00   0.00000000e+00   0.00000000e+00\n",
      "   0.00000000e+00   0.00000000e+00   5.75471878e+00  -1.00000000e+00\n",
      "   5.55726624e+00   0.00000000e+00   1.00000000e+00   0.00000000e+00\n",
      "  -1.68164849e-01]\n"
     ]
    }
   ],
   "source": [
    "# reset the environment\n",
    "env_info = env.reset(train_mode=True)[brain_name]\n",
    "\n",
    "# number of agents\n",
    "num_agents = len(env_info.agents)\n",
    "print('Number of agents:', num_agents)\n",
    "\n",
    "# size of each action\n",
    "action_size = brain.vector_action_space_size\n",
    "print('Size of each action:', action_size)\n",
    "\n",
    "# examine the state space \n",
    "states = env_info.vector_observations\n",
    "state_size = states.shape[1]\n",
    "print('There are {} agents. Each observes a state with length: {}'.format(states.shape[0], state_size))\n",
    "print('The state for the first agent looks like:', states[0])"
   ]
  },
  {
   "cell_type": "markdown",
   "metadata": {},
   "source": [
    "### 3. Take Random Actions in the Environment\n",
    "\n",
    "In the next code cell, you will learn how to use the Python API to control the agent and receive feedback from the environment.\n",
    "\n",
    "Note that **in this coding environment, you will not be able to watch the agents while they are training**, and you should set `train_mode=True` to restart the environment."
   ]
  },
  {
   "cell_type": "code",
   "execution_count": 5,
   "metadata": {},
   "outputs": [
    {
     "name": "stdout",
     "output_type": "stream",
     "text": [
      "Total score (averaged over agents) this episode: 0.1749999960884452\n"
     ]
    }
   ],
   "source": [
    "env_info = env.reset(train_mode=True)[brain_name]      # reset the environment    \n",
    "states = env_info.vector_observations                  # get the current state (for each agent)\n",
    "scores = np.zeros(num_agents)                          # initialize the score (for each agent)\n",
    "while True:\n",
    "    actions = np.random.randn(num_agents, action_size) # select an action (for each agent)\n",
    "    actions = np.clip(actions, -1, 1)                  # all actions between -1 and 1\n",
    "    env_info = env.step(actions)[brain_name]           # send all actions to tne environment\n",
    "    next_states = env_info.vector_observations         # get next state (for each agent)\n",
    "    rewards = env_info.rewards                         # get reward (for each agent)\n",
    "    dones = env_info.local_done                        # see if episode finished\n",
    "    scores += env_info.rewards                         # update the score (for each agent)\n",
    "    states = next_states                               # roll over states to next time step\n",
    "    if np.any(dones):                                  # exit loop if episode finished\n",
    "        break\n",
    "print('Total score (averaged over agents) this episode: {}'.format(np.mean(scores)))"
   ]
  },
  {
   "cell_type": "code",
   "execution_count": 6,
   "metadata": {},
   "outputs": [
    {
     "data": {
      "text/plain": [
       "array([[ 0.35160131,  0.10521094,  0.21605266,  0.93829515],\n",
       "       [-0.28726073, -0.35320944, -0.39547867, -0.13646872],\n",
       "       [ 1.        ,  0.64406365, -0.68794785,  0.97956227],\n",
       "       [ 1.        , -0.14965131, -1.        , -1.        ],\n",
       "       [ 1.        , -0.23707004, -0.36800187, -0.13677849],\n",
       "       [-1.        , -1.        , -1.        ,  0.88921525],\n",
       "       [-0.51748671,  0.51755702,  0.3977073 ,  1.        ],\n",
       "       [ 0.01362152, -0.88123783,  0.10753753, -1.        ],\n",
       "       [ 0.15482762, -0.28813375, -0.77047758,  1.        ],\n",
       "       [ 1.        ,  0.81551638, -0.97047839,  0.81395775],\n",
       "       [-0.74308619,  0.68918674,  0.69706807,  0.90340483],\n",
       "       [-0.3636276 ,  1.        ,  1.        , -0.41699375],\n",
       "       [-0.8151905 , -0.23255009, -0.27767549,  0.41615922],\n",
       "       [ 0.10873611, -0.54206269, -0.75401583,  1.        ],\n",
       "       [-0.104582  , -0.14955657, -0.4912189 , -0.57814513],\n",
       "       [-0.96538843, -0.59631172, -0.80666971, -0.03624637],\n",
       "       [-0.80000636,  1.        ,  0.3273545 , -0.26920349],\n",
       "       [ 0.38394097,  0.91428038, -0.34093971, -1.        ],\n",
       "       [-1.        ,  0.51279014, -1.        ,  1.        ],\n",
       "       [-0.7135419 , -0.23097622, -0.23901722, -1.        ]])"
      ]
     },
     "execution_count": 6,
     "metadata": {},
     "output_type": "execute_result"
    }
   ],
   "source": [
    "actions"
   ]
  },
  {
   "cell_type": "markdown",
   "metadata": {},
   "source": [
    "When finished, you can close the environment."
   ]
  },
  {
   "cell_type": "markdown",
   "metadata": {},
   "source": [
    "### 4. It's Your Turn!\n",
    "\n",
    "Now it's your turn to train your own agent to solve the environment!  A few **important notes**:\n",
    "- When training the environment, set `train_mode=True`, so that the line for resetting the environment looks like the following:\n",
    "```python\n",
    "env_info = env.reset(train_mode=True)[brain_name]\n",
    "```\n",
    "- To structure your work, you're welcome to work directly in this Jupyter notebook, or you might like to start over with a new file!  You can see the list of files in the workspace by clicking on **_Jupyter_** in the top left corner of the notebook.\n",
    "- In this coding environment, you will not be able to watch the agents while they are training.  However, **_after training the agents_**, you can download the saved model weights to watch the agents on your own machine! "
   ]
  },
  {
   "cell_type": "markdown",
   "metadata": {},
   "source": [
    "## Setting up the environment"
   ]
  },
  {
   "cell_type": "code",
   "execution_count": 3,
   "metadata": {},
   "outputs": [
    {
     "name": "stderr",
     "output_type": "stream",
     "text": [
      "INFO:unityagents:\n",
      "'Academy' started successfully!\n",
      "Unity Academy name: Academy\n",
      "        Number of Brains: 1\n",
      "        Number of External Brains : 1\n",
      "        Lesson number : 0\n",
      "        Reset Parameters :\n",
      "\t\tgoal_speed -> 1.0\n",
      "\t\tgoal_size -> 5.0\n",
      "Unity brain name: ReacherBrain\n",
      "        Number of Visual Observations (per agent): 0\n",
      "        Vector Observation space type: continuous\n",
      "        Vector Observation space size (per agent): 33\n",
      "        Number of stacked Vector Observation: 1\n",
      "        Vector Action space type: continuous\n",
      "        Vector Action space size (per agent): 4\n",
      "        Vector Action descriptions: , , , \n"
     ]
    }
   ],
   "source": [
    "from unityagents import UnityEnvironment\n",
    "import numpy as np\n",
    "\n",
    "# select this option to load version 1 (with a single agent) of the environment\n",
    "#env = UnityEnvironment(file_name='/data/Reacher_One_Linux_NoVis/Reacher_One_Linux_NoVis.x86_64')\n",
    "\n",
    "# select this option to load version 2 (with 20 agents) of the environment\n",
    "env = UnityEnvironment(file_name='/data/Reacher_Linux_NoVis/Reacher.x86_64')"
   ]
  },
  {
   "cell_type": "code",
   "execution_count": 4,
   "metadata": {},
   "outputs": [],
   "source": [
    "# get the default brain\n",
    "brain_name = env.brain_names[0]\n",
    "brain = env.brains[brain_name]"
   ]
  },
  {
   "cell_type": "code",
   "execution_count": 5,
   "metadata": {},
   "outputs": [
    {
     "name": "stdout",
     "output_type": "stream",
     "text": [
      "Number of agents: 20\n",
      "Size of each action: 4\n",
      "There are 20 agents. Each observes a state with length: 33\n",
      "The state for the first agent looks like:\n",
      "[  0.00000000e+00  -4.00000000e+00   0.00000000e+00   1.00000000e+00\n",
      "  -0.00000000e+00  -0.00000000e+00  -4.37113883e-08   0.00000000e+00\n",
      "   0.00000000e+00   0.00000000e+00   0.00000000e+00   0.00000000e+00\n",
      "   0.00000000e+00   0.00000000e+00  -1.00000000e+01   0.00000000e+00\n",
      "   1.00000000e+00  -0.00000000e+00  -0.00000000e+00  -4.37113883e-08\n",
      "   0.00000000e+00   0.00000000e+00   0.00000000e+00   0.00000000e+00\n",
      "   0.00000000e+00   0.00000000e+00   5.75471878e+00  -1.00000000e+00\n",
      "   5.55726624e+00   0.00000000e+00   1.00000000e+00   0.00000000e+00\n",
      "  -1.68164849e-01]\n"
     ]
    }
   ],
   "source": [
    "# reset the environment\n",
    "env_info = env.reset(train_mode=True)[brain_name]\n",
    "\n",
    "# number of agents\n",
    "num_agents = len(env_info.agents)\n",
    "print('Number of agents:', num_agents)\n",
    "\n",
    "# size of each action\n",
    "action_dim = brain.vector_action_space_size\n",
    "print('Size of each action:', action_dim)\n",
    "\n",
    "# examine the state space \n",
    "states = env_info.vector_observations\n",
    "state_dim = states.shape[1]\n",
    "print('There are {} agents. Each observes a state with length: {}'.format(states.shape[0], state_dim))\n",
    "print('The state for the first agent looks like:\\n{}'.format(states[0]))"
   ]
  },
  {
   "cell_type": "code",
   "execution_count": 6,
   "metadata": {},
   "outputs": [
    {
     "name": "stdout",
     "output_type": "stream",
     "text": [
      "cpu\n"
     ]
    }
   ],
   "source": [
    "import torch\n",
    "import torch.nn as nn\n",
    "import torch.nn.functional as F\n",
    "from torch.distributions import MultivariateNormal, Normal\n",
    "import time\n",
    "\n",
    "device = torch.device(\"cuda:0\" if torch.cuda.is_available() else \"cpu\")\n",
    "print(device)"
   ]
  },
  {
   "cell_type": "code",
   "execution_count": null,
   "metadata": {},
   "outputs": [],
   "source": []
  },
  {
   "cell_type": "markdown",
   "metadata": {},
   "source": [
    "## Trying A2C model"
   ]
  },
  {
   "cell_type": "markdown",
   "metadata": {},
   "source": [
    "Inspired by the work descirbed in the following url: https://towardsdatascience.com/rl-train-the-robotic-arm-to-reach-a-ball-part-02-fc8822ace1d8\n",
    "\n",
    "I modified as follows:\n",
    "- enabled use of variable static standard deviation instead of hard-coded 1.0 - using 0.5 - 0.6 seemed to improved learning  by about double\n",
    "- adjusted the loss formula by adding `0.5 * ` term to the c_loss as per following urls: \n",
    "\n",
    "     - https://towardsdatascience.com/understanding-actor-critic-methods-931b97b6df3f\n",
    "     - https://github.com/higgsfield/RL-Adventure-2/blob/master/1.actor-critic.ipynb\n",
    "- updated the neural network archtiecture to have 128 weights for first two fully connected layers"
   ]
  },
  {
   "cell_type": "code",
   "execution_count": 7,
   "metadata": {},
   "outputs": [],
   "source": [
    "N_INPUTS = 33\n",
    "N_ACTIONS = 4\n",
    "GAMMA = 0.99 # reward discount rate\n",
    "std = 0.5 # used to determine the spread of actions from a Normal distribution (mu's come from Actor NN output)"
   ]
  },
  {
   "cell_type": "code",
   "execution_count": 8,
   "metadata": {},
   "outputs": [],
   "source": [
    "from IPython.display import clear_output\n",
    "import matplotlib.pyplot as plt\n",
    "%matplotlib inline\n",
    "\n",
    "# create helper function to plot rewards over episodes\n",
    "def plot(rewards):\n",
    "    clear_output(True)\n",
    "    plt.figure(figsize=(20,5))\n",
    "    plt.subplot(131)\n",
    "    #plt.title('frame %s. reward: %s' % (frame_idx, rewards[-1]))\n",
    "    plt.xlabel('Episodes')\n",
    "    plt.ylabel('Average score across agents')\n",
    "    plt.plot(rewards)\n",
    "    plt.show()"
   ]
  },
  {
   "cell_type": "code",
   "execution_count": 9,
   "metadata": {},
   "outputs": [],
   "source": [
    "class A2CModel(nn.Module):\n",
    "    def __init__(self):\n",
    "        super(A2CModel, self).__init__()\n",
    "        self.fc1 = nn.Linear(N_INPUTS, 128)\n",
    "        self.fc2 = nn.Linear(128, 128)\n",
    "        self.actor = nn.Linear(128, N_ACTIONS)\n",
    "        self.critic = nn.Linear(128, 1)\n",
    "        self.std = (std * torch.ones(N_ACTIONS)).to(device)\n",
    "        self.dist = torch.distributions.Normal\n",
    "\n",
    "    def forward(self, s):\n",
    "        '''\n",
    "        Function instantiates the first two layers of the neural network that is shared \n",
    "            by both the Actor and Critic\n",
    "            \n",
    "        Params\n",
    "        ======\n",
    "            s (n_process, state_size) (tensor): states\n",
    "        '''\n",
    "        \n",
    "        s = F.relu(self.fc1(s))\n",
    "        s = F.relu(self.fc2(s))\n",
    "\n",
    "        return s\n",
    "    \n",
    "    def get_action(self, s):\n",
    "        '''\n",
    "        Function employs the Actor to generate actions from input states\n",
    "        \n",
    "        Params\n",
    "        ======\n",
    "            s (n_process, state_size) (tensor): states\n",
    "        Returns\n",
    "        ======\n",
    "            action_tanh (n_process, action_size) (tensor): action limited within (-1,1)\n",
    "            action (n_process, action_size) (tensor): raw action\n",
    "        '''\n",
    "        s = self.forward(s)\n",
    "        mu = self.actor(s)\n",
    "        dist_ = self.dist(mu, self.std)\n",
    "        action = dist_.sample()\n",
    "        action_tanh = F.tanh(action)\n",
    "        return action_tanh, action\n",
    "    \n",
    "    def get_action_prob(self, s, a):\n",
    "        '''\n",
    "        Function generates the action probabilities from actions generated from the Actor\n",
    "        \n",
    "        Params\n",
    "        ======\n",
    "            s (n_process, state_size) (tensor): states\n",
    "            a (n_process, action_size) (tensor): actions\n",
    "        \n",
    "        Returns\n",
    "        =======\n",
    "            mu (n_process, action_size) (tensor): mean value of action distribution\n",
    "            self.std (action_size,) (tensor): the standard deviation of every action\n",
    "            log_prob (n_process,) (tensor): log probability of input action\n",
    "        '''\n",
    "        \n",
    "        s = self.forward(s)\n",
    "        mu = self.actor(s)\n",
    "        dist_ = self.dist(mu, self.std)\n",
    "        log_prob  = dist_.log_prob(a)\n",
    "        log_prob = torch.sum(log_prob, dim=1, keepdim=False)\n",
    "        entropy = dist_.entropy\n",
    "        return mu, self.std, log_prob, entropy\n",
    "        \n",
    "    def get_state_value(self, s):\n",
    "        '''\n",
    "        Function employes the Critic to generate a baseline value to assess Actor performance\n",
    "        \n",
    "        Params\n",
    "        ======\n",
    "            s (n_process, state_size) (tensor): states\n",
    "        Returns\n",
    "        =======\n",
    "            value (n_process,) (tensor)\n",
    "        '''\n",
    "        s = self.forward(s)\n",
    "        value = self.critic(s).squeeze(1)\n",
    "        return value\n",
    "\n",
    "def collect_trajectories(model, env, brain_name, init_states, episode_end, n_steps):\n",
    "    '''\n",
    "    Function generates a set of trajectories of length n_steps from the envionment that is passed \n",
    "        in as env[brain_name] and actions generated throug the Actor model. It also keeps track \n",
    "        of whether the episode is completed and if so resets the environment state.\n",
    "    \n",
    "    Params\n",
    "    ======\n",
    "        model (object): A2C model\n",
    "        env (object): environment\n",
    "        brain_name (string): brain name of environment\n",
    "        init_states (n_process, state_size) (numpy): initial states for loop\n",
    "        episode_end (bool): tracker of episode end, default False\n",
    "        n_steps (int): number of steps for reward collection\n",
    "    Returns\n",
    "    =======\n",
    "        batch_s (T, n_process, state_size) (numpy): batch of states\n",
    "        batch_a (T, n_process, action_size) (numpy): batch of actions\n",
    "        batch_v_t (T, n_process) (numpy): batch of n-step rewards (aks target value)\n",
    "        accu_rewards (n_process,) (numpy): accumulated rewards for process (being summed up on all process)\n",
    "        init_states (n_process, state_size) (numpy): initial states for next batch\n",
    "        episode_end (bool): tracker of episode end\n",
    "    '''\n",
    "    \n",
    "    # initiate lists to capture the trajectors for states, actions, and rewards\n",
    "    batch_s = []\n",
    "    batch_a = []\n",
    "    batch_r = []\n",
    "\n",
    "    states = init_states\n",
    "    accu_rewards = np.zeros(init_states.shape[0])\n",
    "\n",
    "    t = 0\n",
    "    while True:\n",
    "        t += 1\n",
    "\n",
    "        model.eval()\n",
    "        with torch.no_grad():\n",
    "            states = torch.from_numpy(states).float().to(device)\n",
    "            actions_tanh, actions = model.get_action(states)\n",
    "        model.train()\n",
    "        # actions_tanh (n_process, action_size) (tensor), actions limited within (-1,1)\n",
    "        # actions (n_process, action_size) (tensor)\n",
    "        \n",
    "        env_info = env.step(actions_tanh.cpu().data.numpy())[brain_name]\n",
    "        next_states = env_info.vector_observations\n",
    "        rewards = env_info.rewards\n",
    "        dones = env_info.local_done\n",
    "        # next_states (numpy array)\n",
    "        # rewards (list)\n",
    "        # dones (list)\n",
    "        rewards = np.array(rewards)\n",
    "        dones = np.array(dones)\n",
    "        \n",
    "        accu_rewards += rewards\n",
    "\n",
    "        batch_s.append(states.cpu().data.numpy()) # final shape of batch_s (T, n_process, state_size) (list of numpy)\n",
    "        batch_a.append(actions.cpu().data.numpy()) # final shape of batch_a (T, n_process, action_size) (list of numpy)\n",
    "        batch_r.append(rewards) # final shape of batch_r (T, n_process) (list of numpy array)\n",
    "\n",
    "        if dones.any() or t >= n_steps:\n",
    "            model.eval()\n",
    "            next_states = torch.from_numpy(next_states).float().to(device)\n",
    "            final_r = model.get_state_value(next_states).detach().cpu().data.numpy() # final_r (n_process,) (numpy)\n",
    "            model.train()\n",
    "\n",
    "            for i in range(len(dones)):\n",
    "                if dones[i] == True:\n",
    "                    final_r[i] = 0\n",
    "                else:\n",
    "                    final_r[i] = final_r[i]\n",
    "\n",
    "            # compute discounted n-step future rewards (aks target value) \n",
    "            batch_v_t = [] \n",
    "            batch_r = np.array(batch_r)\n",
    "            \n",
    "            for r in batch_r[::-1]:\n",
    "                mean = np.mean(r)\n",
    "                std = np.std(r)\n",
    "                r = (r - mean)/(std+0.0001) # normalize rewards in n_process on each timestep\n",
    "                final_r = r + GAMMA * final_r\n",
    "                batch_v_t.append(final_r)\n",
    "            batch_v_t = np.array(batch_v_t)[::-1] # final shape (T, n_process) (numpy)\n",
    "\n",
    "            break\n",
    "\n",
    "        states = next_states\n",
    "\n",
    "    if dones.any():\n",
    "        env_info = env.reset(train_mode=True)[brain_name]\n",
    "        init_states = env_info.vector_observations\n",
    "        episode_end = True\n",
    "        \n",
    "    else:\n",
    "        init_states = next_states.cpu().data.numpy() # if not done, continue batch collection from last states\n",
    "\n",
    "    batch_s = np.stack(batch_s)\n",
    "    batch_a = np.stack(batch_a)\n",
    "\n",
    "    return batch_s, batch_a, batch_v_t, np.sum(accu_rewards), init_states, episode_end\n",
    "\n",
    "\n",
    "def learn(batch_s, batch_a, batch_v_t, model, optimizer):\n",
    "    '''\n",
    "    Function computes the loss and usng passed optimizer (default is Adam) employes gradient\n",
    "        descent to update the model weigths.  The loss is comprised of both the advantage function loss\n",
    "        and the critic loss.\n",
    "    \n",
    "    Params\n",
    "    ======\n",
    "        batch_s (T, n_process, state_size) (numpy)\n",
    "        batch_a (T, n_process, action_size) (numpy): batch of actions\n",
    "        batch_v_t (T, n_process) (numpy): batch of n-step rewards (aks target value)\n",
    "        model (object): A2C model\n",
    "        optimizer (object): model parameter optimizer\n",
    "    Returns\n",
    "    ======\n",
    "        total_loss (int): mean actor-critic loss for each batch \n",
    "    '''\n",
    "\n",
    "    # convert to tensors\n",
    "    batch_s_ = torch.from_numpy(batch_s).float().to(device)\n",
    "    batch_s_ = batch_s_.view(-1, batch_s.shape[-1]) # shape from (T,n_process,state_size) -> (TxN, state_size)\n",
    "\n",
    "    batch_a_ = torch.from_numpy(batch_a).float().to(device)\n",
    "    batch_a_ = batch_a_.view(-1, batch_a.shape[-1]) # shape from (T,n_process,action_size) -> (TxN, action_size)\n",
    "\n",
    "    # generated critic values\n",
    "    values = model.get_state_value(batch_s_) # shape (TxN,) - from the critic\n",
    "    values = values.view(*batch_s.shape[:2]) # shape (T,n) - resphape back to T and n_processes\n",
    "\n",
    "    # pytorch's problem of negative stride -> require .copy() to create new numpy\n",
    "    batch_v_t_ = torch.from_numpy(batch_v_t.copy()).float().to(device)\n",
    "    \n",
    "    # calculate MSE loss between critic values and discounted values from trajectories\n",
    "    td = batch_v_t_ - values # shape (T, n_process) (tensor)\n",
    "    c_loss = 0.5 * td.pow(2).mean()\n",
    "\n",
    "    mus, stds, log_probs, entropy = model.get_action_prob(batch_s_, batch_a_)\n",
    "    log_probs_ = log_probs.view(*batch_a.shape[:2]) # shape from (TxN,) -> (T,n) (tensor) - resphape back to T and n_processes\n",
    "\n",
    "    a_loss = -((log_probs_ * td.detach()).mean())\n",
    "    total_loss = a_loss + c_loss\n",
    "\n",
    "    optimizer.zero_grad()\n",
    "    total_loss.backward()\n",
    "    optimizer.step()\n",
    "\n",
    "    # stds is constnat -> no gradient, no detach()\n",
    "    return total_loss.detach().cpu().data.numpy(), mus.detach().cpu().data.numpy(), stds.cpu().data.numpy()"
   ]
  },
  {
   "cell_type": "code",
   "execution_count": 19,
   "metadata": {},
   "outputs": [
    {
     "name": "stdout",
     "output_type": "stream",
     "text": [
      "Episode  100\tEpisodic Score   4.829\tCurrent Score   9.427\tLoss    58.321217\tTime  458 sec\n",
      "Episode  200\tEpisodic Score  16.266\tCurrent Score  21.335\tLoss   238.251968\tTime  472 sec\n",
      "Episode  300\tEpisodic Score  25.019\tCurrent Score  30.502\tLoss   249.535690\tTime  459 sec\n",
      "Episode  363\tEpisodic Score  29.947\tCurrent Score  33.970\tLoss   537.094910\t\n",
      "Solved at episode 263\n"
     ]
    }
   ],
   "source": [
    "from collections import deque\n",
    "from workspace_utils import active_session\n",
    "\n",
    "torch.backends.cudnn.deterministic = True\n",
    "torch.manual_seed(999)\n",
    "\n",
    "agent_a2c = A2CModel().to(device)\n",
    "optimizer = torch.optim.Adam(agent_a2c.parameters(), lr=0.00015)\n",
    "\n",
    "env_info = env.reset(train_mode=True)[brain_name] \n",
    "states = env_info.vector_observations\n",
    "init_states = states\n",
    "\n",
    "n_episodes = 1\n",
    "n_steps = 10\n",
    "episode_end = False\n",
    "a2c_ep_rewards_list = []\n",
    "ep_rewards_deque = deque([0], maxlen=100) # initialize with 0\n",
    "ep_rewards = 0\n",
    "max_episodes = 1000\n",
    "tic = time.perf_counter()\n",
    "\n",
    "with active_session():\n",
    "    while True:\n",
    "        \n",
    "        # generate trajectories for n_steps\n",
    "        batch_s, batch_a, batch_v_t, accu_rewards, init_states, episode_end = collect_trajectories(\n",
    "            agent_a2c, env, brain_name, init_states, episode_end, n_steps)\n",
    "    \n",
    "        # use the trajectories to learn better weights\n",
    "        loss, mus, stds = learn(batch_s, batch_a, batch_v_t, agent_a2c, optimizer)\n",
    "        ep_rewards += accu_rewards\n",
    "        print('\\rEpisode {:>4}\\tEpisodic Score {:>7.3f}\\tCurrent Score {:>7.3f}\\tLoss {:>12.6f}\\t'.format(\n",
    "            n_episodes, np.mean(ep_rewards_deque), ep_rewards_deque[-1], float(loss)), end=\"\")\n",
    "\n",
    "        if episode_end:\n",
    "            \n",
    "            a2c_ep_rewards_list.append(ep_rewards/num_agents)\n",
    "            ep_rewards_deque.append(ep_rewards/num_agents)\n",
    "            \n",
    "            if n_episodes % 100 == 0:\n",
    "                toc = time.perf_counter()\n",
    "                print('\\rEpisode {:>4}\\tEpisodic Score {:>7.3f}\\tCurrent Score {:>7.3f}\\tLoss {:>12.6f}\\tTime {:>4} sec'.format(\n",
    "                    n_episodes, np.mean(ep_rewards_deque), ep_rewards_deque[-1], float(loss), int(toc-tic)))\n",
    "                tic = time.perf_counter()\n",
    "\n",
    "            if np.mean(ep_rewards_deque) >= 30:\n",
    "                print('\\nSolved at episode {}'.format(n_episodes - 100))\n",
    "                break\n",
    "            if n_episodes > max_episodes:\n",
    "                print('\\nDid not solve, achieved a high averaged score of {:>7.3f}'.format(np.mean(ep_rewards_deque)))\n",
    "                break\n",
    "\n",
    "            ep_rewards = 0\n",
    "            n_episodes += 1\n",
    "            episode_end = False\n",
    "                \n",
    "    # save a2c model\n",
    "    pth = 'a2c_checkpoint_std_' + str(std) + '.pth'\n",
    "    torch.save(agent_a2c.state_dict(), pth)\n",
    "\n",
    "    a2c_ep_rewards_list = np.array(a2c_ep_rewards_list)\n",
    "    np.save('a2c_ep_rewards_list_std_' + str(std) + '.npy', a2c_ep_rewards_list)"
   ]
  },
  {
   "cell_type": "code",
   "execution_count": 20,
   "metadata": {},
   "outputs": [
    {
     "data": {
      "image/png": "[encoded data removed]",
      "text/plain": [
       "<matplotlib.figure.Figure at 0x7f3aa2abe3c8>"
      ]
     },
     "metadata": {
      "needs_background": "light"
     },
     "output_type": "display_data"
    }
   ],
   "source": [
    "plot(a2c_ep_rewards_list)"
   ]
  },
  {
   "cell_type": "markdown",
   "metadata": {},
   "source": [
    "I ran the above code several times and acheived the target score between 100 and 400 episodes.  I assume the environment is sufficiently complex with substantial areas of small gradients, the algorithm randomly explores portions of the environment before finding a good gradient that eventually achieves the desired score."
   ]
  },
  {
   "cell_type": "markdown",
   "metadata": {},
   "source": [
    "## Trying A2C model with different sigma"
   ]
  },
  {
   "cell_type": "markdown",
   "metadata": {},
   "source": [
    "I'm trying a slightly higher sigma that is based off the OpenAI spinning up repo - url: https://github.com/openai/spinningup/blob/master/spinup/algos/pytorch/ppo/core.py"
   ]
  },
  {
   "cell_type": "code",
   "execution_count": 12,
   "metadata": {},
   "outputs": [],
   "source": [
    "N_INPUTS = 33\n",
    "N_ACTIONS = 4\n",
    "GAMMA = 0.99 # reward discount rate\n",
    "std = np.exp(-0.5)"
   ]
  },
  {
   "cell_type": "code",
   "execution_count": 14,
   "metadata": {},
   "outputs": [
    {
     "name": "stdout",
     "output_type": "stream",
     "text": [
      "Episode  100\tEpisodic Score  10.625\tCurrent Score  36.216\tLoss    39.208893\tTime  481 sec\n",
      "Episode  159\tEpisodic Score  29.913\tCurrent Score  38.707\tLoss    -0.876266\t\n",
      "Solved at episode 59\n"
     ]
    }
   ],
   "source": [
    "from collections import deque\n",
    "from workspace_utils import active_session\n",
    "\n",
    "torch.backends.cudnn.deterministic = True\n",
    "torch.manual_seed(999)\n",
    "\n",
    "agent_a2c = A2CModel().to(device)\n",
    "optimizer = torch.optim.Adam(agent_a2c.parameters(), lr=0.00015)\n",
    "\n",
    "env_info = env.reset(train_mode=True)[brain_name] \n",
    "states = env_info.vector_observations\n",
    "init_states = states\n",
    "\n",
    "n_episodes = 1\n",
    "n_steps = 10\n",
    "episode_end = False\n",
    "a2c_ep_rewards_list = []\n",
    "ep_rewards_deque = deque([0], maxlen=100) # initialize with 0\n",
    "ep_rewards = 0\n",
    "max_episodes = 1000\n",
    "tic = time.perf_counter()\n",
    "\n",
    "with active_session():\n",
    "    while True:\n",
    "        batch_s, batch_a, batch_v_t, accu_rewards, init_states, episode_end = collect_trajectories(\n",
    "            agent_a2c, env, brain_name, init_states, episode_end, n_steps)\n",
    "\n",
    "        loss, mus, stds = learn(batch_s, batch_a, batch_v_t, agent_a2c, optimizer)\n",
    "        ep_rewards += accu_rewards\n",
    "        print('\\rEpisode {:>4}\\tEpisodic Score {:>7.3f}\\tCurrent Score {:>7.3f}\\tLoss {:>12.6f}\\t'.format(\n",
    "            n_episodes, np.mean(ep_rewards_deque), ep_rewards_deque[-1], float(loss)), end=\"\")\n",
    "\n",
    "        if episode_end:\n",
    "            \n",
    "            a2c_ep_rewards_list.append(ep_rewards/num_agents)\n",
    "            ep_rewards_deque.append(ep_rewards/num_agents)\n",
    "            \n",
    "            if n_episodes % 100 == 0:\n",
    "                toc = time.perf_counter()\n",
    "                print('\\rEpisode {:>4}\\tEpisodic Score {:>7.3f}\\tCurrent Score {:>7.3f}\\tLoss {:>12.6f}\\tTime {:>4} sec'.format(\n",
    "                    n_episodes, np.mean(ep_rewards_deque), ep_rewards_deque[-1], float(loss), int(toc-tic)))\n",
    "                tic = time.perf_counter()\n",
    "\n",
    "            if np.mean(ep_rewards_deque) >= 30:\n",
    "                print('\\nSolved at episode {}'.format(n_episodes - 100))\n",
    "                break\n",
    "            if n_episodes > max_episodes:\n",
    "                print('\\nDid not solve, achieved a high averaged score of {:>7.3f}'.format(np.mean(ep_rewards_deque)))\n",
    "                break\n",
    "\n",
    "            ep_rewards = 0\n",
    "            n_episodes += 1\n",
    "            episode_end = False\n",
    "                \n",
    "    # save a2c model\n",
    "    pth = 'a2c_checkpoint_std_' + str(std) + '.pth'\n",
    "    torch.save(agent_a2c.state_dict(), pth)\n",
    "\n",
    "    a2c_ep_rewards_list = np.array(a2c_ep_rewards_list)\n",
    "    np.save('a2c_ep_rewards_list_std_' + str(std) + '.npy', a2c_ep_rewards_list)"
   ]
  },
  {
   "cell_type": "code",
   "execution_count": 15,
   "metadata": {},
   "outputs": [
    {
     "data": {
      "image/png": "[encoded data removed]",
      "text/plain": [
       "<matplotlib.figure.Figure at 0x7f3aa38e24a8>"
      ]
     },
     "metadata": {
      "needs_background": "light"
     },
     "output_type": "display_data"
    }
   ],
   "source": [
    "plot(a2c_ep_rewards_list)"
   ]
  },
  {
   "cell_type": "markdown",
   "metadata": {},
   "source": [
    "Clearly this produced a very good learning run.  But I'm not totally convinced this wasn't a fluke.  However a sigma of `exp(-0.5)` produced to quickest learning."
   ]
  },
  {
   "cell_type": "markdown",
   "metadata": {},
   "source": [
    "## Trying A2C model with entropy"
   ]
  },
  {
   "cell_type": "markdown",
   "metadata": {},
   "source": [
    "I modified the \"learn\" function to include an entropy term to ensure good exploration."
   ]
  },
  {
   "cell_type": "code",
   "execution_count": 10,
   "metadata": {},
   "outputs": [],
   "source": [
    "N_INPUTS = 33\n",
    "N_ACTIONS = 4\n",
    "GAMMA = 0.99 # reward discount rate\n",
    "std = np.exp(-0.5)"
   ]
  },
  {
   "cell_type": "code",
   "execution_count": 11,
   "metadata": {},
   "outputs": [],
   "source": [
    "def learn(batch_s, batch_a, batch_v_t, model, optimizer, beta):\n",
    "    '''\n",
    "    Params\n",
    "    ======\n",
    "        batch_s (T, n_process, state_size) (numpy)\n",
    "        batch_a (T, n_process, action_size) (numpy): batch of actions\n",
    "        batch_v_t (T, n_process) (numpy): batch of n-step rewards (aks target value)\n",
    "        model (object): A2C model\n",
    "        optimizer (object): model parameter optimizer\n",
    "    Returns\n",
    "    ======\n",
    "        total_loss (int): mean actor-critic loss for each batch \n",
    "    '''\n",
    "\n",
    "    # convert to tensors\n",
    "    batch_s_ = torch.from_numpy(batch_s).float().to(device)\n",
    "    batch_s_ = batch_s_.view(-1, batch_s.shape[-1]) # shape from (T,n_process,state_size) -> (TxN, state_size)\n",
    "\n",
    "    batch_a_ = torch.from_numpy(batch_a).float().to(device)\n",
    "    batch_a_ = batch_a_.view(-1, batch_a.shape[-1]) # shape from (T,n_process,action_size) -> (TxN, action_size)\n",
    "\n",
    "    # generated critic values\n",
    "    values = model.get_state_value(batch_s_) # shape (TxN,) - from the critic\n",
    "    values = values.view(*batch_s.shape[:2]) # shape (T,n) - resphape back to T and n_processes\n",
    "\n",
    "    # pytorch's problem of negative stride -> require .copy() to create new numpy\n",
    "    batch_v_t_ = torch.from_numpy(batch_v_t.copy()).float().to(device)\n",
    "    \n",
    "    # calculate MSE loss between critic values and discounted values from trajectories\n",
    "    td = batch_v_t_ - values # shape (T, n_process) (tensor)\n",
    "    c_loss = td.pow(2).mean()\n",
    "\n",
    "    mus, stds, log_probs, entropy = model.get_action_prob(batch_s_, batch_a_)\n",
    "    log_probs_ = log_probs.view(*batch_a.shape[:2]) # shape from (TxN,) -> (T,n) (tensor) - resphape back to T and n_processes\n",
    "\n",
    "    a_loss = -((log_probs_ * td.detach()).mean())\n",
    "    total_loss = a_loss + 0.5 * c_loss - (beta * entropy().mean()) \n",
    "\n",
    "    optimizer.zero_grad()\n",
    "    total_loss.backward()\n",
    "    optimizer.step()\n",
    "\n",
    "    # stds is constnat -> no gradient, no detach()\n",
    "    return total_loss.detach().cpu().data.numpy(), mus.detach().cpu().data.numpy(), stds.cpu().data.numpy()"
   ]
  },
  {
   "cell_type": "code",
   "execution_count": 12,
   "metadata": {},
   "outputs": [
    {
     "name": "stdout",
     "output_type": "stream",
     "text": [
      "Episode  100\tEpisodic Score  10.625\tCurrent Score  36.216\tLoss    39.208061\tTime  467 sec\n",
      "Episode  159\tEpisodic Score  29.913\tCurrent Score  38.707\tLoss    -0.877051\tbeta 0.00085\n",
      "Solved at episode 59\n"
     ]
    }
   ],
   "source": [
    "from collections import deque\n",
    "from workspace_utils import active_session\n",
    "\n",
    "torch.backends.cudnn.deterministic = True\n",
    "torch.manual_seed(999)\n",
    "\n",
    "#device = torch.device(\"cuda:0\" if torch.cuda.is_available() else \"cpu\")\n",
    "\n",
    "agent_a2c = A2CModel().to(device)\n",
    "optimizer = torch.optim.Adam(agent_a2c.parameters(), lr=0.00015)\n",
    "\n",
    "env_info = env.reset(train_mode=True)[brain_name] \n",
    "states = env_info.vector_observations\n",
    "init_states = states\n",
    "\n",
    "n_episodes = 1\n",
    "n_steps = 10\n",
    "episode_end = False\n",
    "a2c_ep_rewards_list = []\n",
    "ep_rewards_deque = deque([0], maxlen=100) # initialize with 0\n",
    "ep_rewards = 0\n",
    "max_episodes = 400\n",
    "tic = time.perf_counter()\n",
    "\n",
    "beta = 0.001  # initial beta to use for entropy calculations\n",
    "\n",
    "with active_session():\n",
    "    while True:\n",
    "        batch_s, batch_a, batch_v_t, accu_rewards, init_states, episode_end = collect_trajectories(\n",
    "            agent_a2c, env, brain_name, init_states, episode_end, n_steps)\n",
    "\n",
    "        loss, mus, stds = learn(batch_s, batch_a, batch_v_t, agent_a2c, optimizer, beta)\n",
    "        ep_rewards += accu_rewards\n",
    "        print('\\rEpisode {:>4}\\tEpisodic Score {:>7.3f}\\tCurrent Score {:>7.3f}\\tLoss {:>12.6f}\\tbeta {:>6.5f}'.format(\n",
    "            n_episodes, np.mean(ep_rewards_deque), ep_rewards_deque[-1], float(loss), beta), end=\"\")\n",
    "\n",
    "        if episode_end:\n",
    "\n",
    "            a2c_ep_rewards_list.append(ep_rewards/num_agents)\n",
    "            ep_rewards_deque.append(ep_rewards/num_agents)\n",
    "            \n",
    "            if n_episodes % 100 == 0:\n",
    "                toc = time.perf_counter()\n",
    "                print('\\rEpisode {:>4}\\tEpisodic Score {:>7.3f}\\tCurrent Score {:>7.3f}\\tLoss {:>12.6f}\\tTime {:>4} sec'.format(\n",
    "                    n_episodes, np.mean(ep_rewards_deque), ep_rewards_deque[-1], float(loss), int(toc-tic)))\n",
    "                tic = time.perf_counter()\n",
    "\n",
    "            if np.mean(ep_rewards_deque) >= 30:\n",
    "                print('\\nSolved at episode {}'.format(n_episodes - 100))\n",
    "                break\n",
    "            if n_episodes > max_episodes:\n",
    "                print('\\nDid not solve, achieved a high averaged score of {:>7.3f}'.format(np.mean(ep_rewards_deque)))\n",
    "                break\n",
    "\n",
    "            ep_rewards = 0\n",
    "            n_episodes += 1\n",
    "            episode_end = False\n",
    "\n",
    "            beta *= 0.999  # discount beta with each episode\n",
    "\n",
    "    # save a2c model\n",
    "    pth = 'a2c_checkpoint_beta_std_' + str(std) + '.pth'\n",
    "    torch.save(agent_a2c.state_dict(), pth)\n",
    "\n",
    "    a2c_ep_rewards_list = np.array(a2c_ep_rewards_list)\n",
    "    np.save('a2c_ep_rewards_list_beta_std_' + str(std) + '.npy', a2c_ep_rewards_list)"
   ]
  },
  {
   "cell_type": "code",
   "execution_count": 13,
   "metadata": {},
   "outputs": [
    {
     "data": {
      "image/png": "[encoded data removed]",
      "text/plain": [
       "<matplotlib.figure.Figure at 0x7f12a29c38d0>"
      ]
     },
     "metadata": {
      "needs_background": "light"
     },
     "output_type": "display_data"
    }
   ],
   "source": [
    "plot(a2c_ep_rewards_list)"
   ]
  },
  {
   "cell_type": "markdown",
   "metadata": {},
   "source": [
    "Adding entropy basically didn't impact the learning rate.  Perhaps it could reduce the variability of the learning over many random seeds?"
   ]
  },
  {
   "cell_type": "markdown",
   "metadata": {},
   "source": [
    "## Trying A2C model with trainable sigma"
   ]
  },
  {
   "cell_type": "markdown",
   "metadata": {},
   "source": [
    "In place of a fixed, hard-coded sigma and a Normal distribution of output actions I tried a trainable sigma for the Normal disribution.  However I could not get the system to learn."
   ]
  },
  {
   "cell_type": "code",
   "execution_count": 16,
   "metadata": {},
   "outputs": [],
   "source": [
    "N_INPUTS = 33\n",
    "N_ACTIONS = 4\n",
    "GAMMA = 0.99 # reward discount rate\n",
    "std = 'trainable'"
   ]
  },
  {
   "cell_type": "code",
   "execution_count": 20,
   "metadata": {},
   "outputs": [],
   "source": [
    "class A2CModel(nn.Module):\n",
    "    def __init__(self):\n",
    "        super(A2CModel, self).__init__()\n",
    "        self.fc1 = nn.Linear(N_INPUTS, 128)\n",
    "        self.fc2 = nn.Linear(128, 128)\n",
    "        self.actor = nn.Linear(128, N_ACTIONS)\n",
    "        self.critic = nn.Linear(128, 1)\n",
    "        #self.std = (0.5 * torch.ones(N_ACTIONS)).to(device)\n",
    "        self.std = nn.Linear(128, N_ACTIONS, bias=True)\n",
    "        self.std.bias.data.fill_(0.4)         # initialize close to 0.5\n",
    "        self.dist = torch.distributions.Normal\n",
    "\n",
    "    def forward(self, s):\n",
    "        '''\n",
    "        Params\n",
    "        ======\n",
    "            s (n_process, state_size) (tensor): states\n",
    "        '''\n",
    "        s = F.relu(self.fc1(s))\n",
    "        s = F.relu(self.fc2(s))\n",
    "\n",
    "        return s\n",
    "    \n",
    "    def get_action(self, s):\n",
    "        '''\n",
    "        Params\n",
    "        ======\n",
    "            s (n_process, state_size) (tensor): states\n",
    "        Returns\n",
    "        ======\n",
    "            action_tanh (n_process, action_size) (tensor): action limited within (-1,1)\n",
    "            action (n_process, action_size) (tensor): raw action\n",
    "        '''\n",
    "        s = self.forward(s)\n",
    "        mu = self.actor(s)\n",
    "        std = F.softplus(self.std(s)) + 0.1     # constrain so it doesn't get too low\n",
    "        dist_ = self.dist(mu, std)\n",
    "        action = dist_.sample()\n",
    "        action_tanh = F.tanh(action)\n",
    "        return action_tanh, action\n",
    "    \n",
    "    def get_action_prob(self, s, a):\n",
    "        '''\n",
    "        Params\n",
    "        ======\n",
    "            s (n_process, state_size) (tensor): states\n",
    "            a (n_process, action_size) (tensor): actions\n",
    "        \n",
    "        Returns\n",
    "        =======\n",
    "            mu (n_process, action_size) (tensor): mean value of action distribution\n",
    "            self.std (action_size,) (tensor): the standard deviation of every action\n",
    "            log_prob (n_process,) (tensor): log probability of input action\n",
    "        '''\n",
    "        \n",
    "        s = self.forward(s)\n",
    "        mu = self.actor(s)\n",
    "        std = F.softplus(self.std(s)) + 0.1     \n",
    "        dist_ = self.dist(mu, std)\n",
    "        log_prob  = dist_.log_prob(a)\n",
    "        log_prob = torch.sum(log_prob, dim=1, keepdim=False)\n",
    "        entropy = dist_.entropy\n",
    "        return mu, std, log_prob, entropy\n",
    "        \n",
    "    def get_state_value(self, s):\n",
    "        '''\n",
    "        Params\n",
    "        ======\n",
    "            s (n_process, state_size) (tensor): states\n",
    "        Returns\n",
    "        =======\n",
    "            value (n_process,) (tensor)\n",
    "        '''\n",
    "        s = self.forward(s)\n",
    "        value = self.critic(s).squeeze(1)\n",
    "        return value"
   ]
  },
  {
   "cell_type": "code",
   "execution_count": 21,
   "metadata": {},
   "outputs": [
    {
     "name": "stdout",
     "output_type": "stream",
     "text": [
      "Episode  100\tEpisodic Score   5.413\tCurrent Score  11.093\tLoss    50.027122\tTime  478 sec\n",
      "Episode  200\tEpisodic Score  15.351\tCurrent Score  10.923\tLoss   123.160324\tTime  473 sec\n",
      "Episode  300\tEpisodic Score  10.100\tCurrent Score   2.754\tLoss    59.754883\tTime  472 sec\n",
      "Episode  400\tEpisodic Score   3.517\tCurrent Score   5.214\tLoss   158.309402\tTime  462 sec\n",
      "Episode  401\tEpisodic Score   3.517\tCurrent Score   5.214\tLoss   103.751259\t\n",
      "Did not solve, achieved a high averaged score of   3.545\n"
     ]
    }
   ],
   "source": [
    "from collections import deque\n",
    "from workspace_utils import active_session\n",
    "\n",
    "torch.backends.cudnn.deterministic = True\n",
    "torch.manual_seed(999)\n",
    "\n",
    "#device = torch.device(\"cuda:0\" if torch.cuda.is_available() else \"cpu\")\n",
    "\n",
    "agent_a2c = A2CModel().to(device)\n",
    "optimizer = torch.optim.Adam(agent_a2c.parameters(), lr=0.00015)\n",
    "\n",
    "env_info = env.reset(train_mode=True)[brain_name] \n",
    "states = env_info.vector_observations\n",
    "init_states = states\n",
    "\n",
    "n_episodes = 1\n",
    "n_steps = 10\n",
    "episode_end = False\n",
    "a2c_ep_rewards_list = []\n",
    "ep_rewards_deque = deque([0], maxlen=100) # initialize with 0\n",
    "ep_rewards = 0\n",
    "max_episodes = 400\n",
    "tic = time.perf_counter()\n",
    "\n",
    "beta = 0.0  # initial beta to use for entropy calculations\n",
    "\n",
    "with active_session():\n",
    "    while True:\n",
    "        batch_s, batch_a, batch_v_t, accu_rewards, init_states, episode_end = collect_trajectories(\n",
    "            agent_a2c, env, brain_name, init_states, episode_end, n_steps)\n",
    "\n",
    "        loss, mus, stds = learn(batch_s, batch_a, batch_v_t, agent_a2c, optimizer, beta)\n",
    "        ep_rewards += accu_rewards\n",
    "        print('\\rEpisode {:>4}\\tEpisodic Score {:>7.3f}\\tCurrent Score {:>7.3f}\\tLoss {:>12.6f}\\t'.format(\n",
    "            n_episodes, np.mean(ep_rewards_deque), ep_rewards_deque[-1], float(loss)), end=\"\")\n",
    "\n",
    "        if episode_end:\n",
    "\n",
    "            a2c_ep_rewards_list.append(ep_rewards/num_agents)\n",
    "            ep_rewards_deque.append(ep_rewards/num_agents)\n",
    "            \n",
    "            if n_episodes % 100 == 0:\n",
    "                toc = time.perf_counter()\n",
    "                print('\\rEpisode {:>4}\\tEpisodic Score {:>7.3f}\\tCurrent Score {:>7.3f}\\tLoss {:>12.6f}\\tTime {:>4} sec'.format(\n",
    "                    n_episodes, np.mean(ep_rewards_deque), ep_rewards_deque[-1], float(loss), int(toc-tic)))\n",
    "                tic = time.perf_counter()\n",
    "\n",
    "            if np.mean(ep_rewards_deque) >= 30:\n",
    "                print('\\nSolved at episode {}'.format(n_episodes - 100))\n",
    "                break\n",
    "            if n_episodes > max_episodes:\n",
    "                print('\\nDid not solve, achieved a high averaged score of {:>7.3f}'.format(np.mean(ep_rewards_deque)))\n",
    "                break\n",
    "\n",
    "            ep_rewards = 0\n",
    "            n_episodes += 1\n",
    "            episode_end = False\n",
    "\n",
    "            beta *= 0.999  # discount beta with each episode\n",
    "\n",
    "    # save a2c model\n",
    "    pth = 'a2c_checkpoint_std_beta_beta' + str(std) + '.pth'\n",
    "    torch.save(agent_a2c.state_dict(), pth)\n",
    "\n",
    "    a2c_ep_rewards_list = np.array(a2c_ep_rewards_list)\n",
    "    np.save('a2c_ep_rewards_list_beta_std' + str(std) + '.npy', a2c_ep_rewards_list)"
   ]
  },
  {
   "cell_type": "code",
   "execution_count": 22,
   "metadata": {},
   "outputs": [
    {
     "data": {
      "image/png": "[encoded data removed]",
      "text/plain": [
       "<matplotlib.figure.Figure at 0x7f1296bd0320>"
      ]
     },
     "metadata": {
      "needs_background": "light"
     },
     "output_type": "display_data"
    }
   ],
   "source": [
    "plot(a2c_ep_rewards_list)"
   ]
  },
  {
   "cell_type": "code",
   "execution_count": null,
   "metadata": {},
   "outputs": [],
   "source": []
  }
 ],
 "metadata": {
  "kernelspec": {
   "display_name": "Python 3",
   "language": "python",
   "name": "python3"
  },
  "language_info": {
   "codemirror_mode": {
    "name": "ipython",
    "version": 3
   },
   "file_extension": ".py",
   "mimetype": "text/x-python",
   "name": "python",
   "nbconvert_exporter": "python",
   "pygments_lexer": "ipython3",
   "version": "3.6.3"
  }
 },
 "nbformat": 4,
 "nbformat_minor": 2
}
