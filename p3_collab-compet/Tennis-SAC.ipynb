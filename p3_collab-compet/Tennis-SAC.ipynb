{
 "cells": [
  {
   "cell_type": "markdown",
   "metadata": {},
   "source": [
    "# Collaboration and Competition\n",
    "\n",
    "---\n",
    "\n",
    "In this notebook, you will learn how to use the Unity ML-Agents environment for the third project of the [Deep Reinforcement Learning Nanodegree](https://www.udacity.com/course/deep-reinforcement-learning-nanodegree--nd893) program.\n",
    "\n",
    "### 1. Start the Environment\n",
    "\n",
    "We begin by importing the necessary packages.  If the code cell below returns an error, please revisit the project instructions to double-check that you have installed [Unity ML-Agents](https://github.com/Unity-Technologies/ml-agents/blob/master/docs/Installation.md) and [NumPy](http://www.numpy.org/)."
   ]
  },
  {
   "cell_type": "code",
   "execution_count": 1,
   "metadata": {},
   "outputs": [
    {
     "name": "stdout",
     "output_type": "stream",
     "text": [
      "\u001b[31mtensorflow 1.7.1 has requirement numpy>=1.13.3, but you'll have numpy 1.12.1 which is incompatible.\u001b[0m\r\n",
      "\u001b[31mipython 6.5.0 has requirement prompt-toolkit<2.0.0,>=1.0.15, but you'll have prompt-toolkit 3.0.8 which is incompatible.\u001b[0m\r\n"
     ]
    }
   ],
   "source": [
    "!pip -q install '/home/workspace/python'"
   ]
  },
  {
   "cell_type": "code",
   "execution_count": 2,
   "metadata": {},
   "outputs": [],
   "source": [
    "from unityagents import UnityEnvironment\n",
    "import numpy as np"
   ]
  },
  {
   "cell_type": "markdown",
   "metadata": {},
   "source": [
    "Next, we will start the environment!  **_Before running the code cell below_**, change the `file_name` parameter to match the location of the Unity environment that you downloaded.\n",
    "\n",
    "- **Mac**: `\"path/to/Tennis.app\"`\n",
    "- **Windows** (x86): `\"path/to/Tennis_Windows_x86/Tennis.exe\"`\n",
    "- **Windows** (x86_64): `\"path/to/Tennis_Windows_x86_64/Tennis.exe\"`\n",
    "- **Linux** (x86): `\"path/to/Tennis_Linux/Tennis.x86\"`\n",
    "- **Linux** (x86_64): `\"path/to/Tennis_Linux/Tennis.x86_64\"`\n",
    "- **Linux** (x86, headless): `\"path/to/Tennis_Linux_NoVis/Tennis.x86\"`\n",
    "- **Linux** (x86_64, headless): `\"path/to/Tennis_Linux_NoVis/Tennis.x86_64\"`\n",
    "\n",
    "For instance, if you are using a Mac, then you downloaded `Tennis.app`.  If this file is in the same folder as the notebook, then the line below should appear as follows:\n",
    "```\n",
    "env = UnityEnvironment(file_name=\"Tennis.app\")\n",
    "```"
   ]
  },
  {
   "cell_type": "code",
   "execution_count": 3,
   "metadata": {},
   "outputs": [
    {
     "name": "stderr",
     "output_type": "stream",
     "text": [
      "INFO:unityagents:\n",
      "'Academy' started successfully!\n",
      "Unity Academy name: Academy\n",
      "        Number of Brains: 1\n",
      "        Number of External Brains : 1\n",
      "        Lesson number : 0\n",
      "        Reset Parameters :\n",
      "\t\t\n",
      "Unity brain name: TennisBrain\n",
      "        Number of Visual Observations (per agent): 0\n",
      "        Vector Observation space type: continuous\n",
      "        Vector Observation space size (per agent): 8\n",
      "        Number of stacked Vector Observation: 3\n",
      "        Vector Action space type: continuous\n",
      "        Vector Action space size (per agent): 2\n",
      "        Vector Action descriptions: , \n"
     ]
    }
   ],
   "source": [
    "#env = UnityEnvironment(file_name=\"Tennis_Linux/Tennis.x86_64\")\n",
    "#env = UnityEnvironment(file_name=\"Tennis_Windows_x86_64/Tennis.exe\")\n",
    "env = UnityEnvironment(file_name=\"/data/Tennis_Linux_NoVis/Tennis.x86\")"
   ]
  },
  {
   "cell_type": "markdown",
   "metadata": {},
   "source": [
    "Environments contain **_brains_** which are responsible for deciding the actions of their associated agents. Here we check for the first brain available, and set it as the default brain we will be controlling from Python."
   ]
  },
  {
   "cell_type": "code",
   "execution_count": 4,
   "metadata": {},
   "outputs": [],
   "source": [
    "# get the default brain\n",
    "brain_name = env.brain_names[0]\n",
    "brain = env.brains[brain_name]"
   ]
  },
  {
   "cell_type": "markdown",
   "metadata": {},
   "source": [
    "### 2. Examine the State and Action Spaces\n",
    "\n",
    "In this environment, two agents control rackets to bounce a ball over a net. If an agent hits the ball over the net, it receives a reward of +0.1.  If an agent lets a ball hit the ground or hits the ball out of bounds, it receives a reward of -0.01.  Thus, the goal of each agent is to keep the ball in play.\n",
    "\n",
    "The observation space consists of 8 variables corresponding to the position and velocity of the ball and racket. Two continuous actions are available, corresponding to movement toward (or away from) the net, and jumping. \n",
    "\n",
    "Run the code cell below to print some information about the environment."
   ]
  },
  {
   "cell_type": "code",
   "execution_count": 5,
   "metadata": {},
   "outputs": [
    {
     "name": "stdout",
     "output_type": "stream",
     "text": [
      "Number of agents: 2\n",
      "Size of each action: 2\n",
      "There are 2 agents. Each observes a state with length: 24\n",
      "The state for the first agent looks like: [ 0.          0.          0.          0.          0.          0.          0.\n",
      "  0.          0.          0.          0.          0.          0.          0.\n",
      "  0.          0.         -6.65278625 -1.5        -0.          0.\n",
      "  6.83172083  6.         -0.          0.        ]\n"
     ]
    }
   ],
   "source": [
    "# reset the environment\n",
    "env_info = env.reset(train_mode=True)[brain_name]\n",
    "\n",
    "# number of agents \n",
    "num_agents = len(env_info.agents)\n",
    "print('Number of agents:', num_agents)\n",
    "\n",
    "# size of each action\n",
    "action_size = brain.vector_action_space_size\n",
    "print('Size of each action:', action_size)\n",
    "\n",
    "# examine the state space \n",
    "states = env_info.vector_observations\n",
    "state_size = states.shape[1]\n",
    "print('There are {} agents. Each observes a state with length: {}'.format(states.shape[0], state_size))\n",
    "print('The state for the first agent looks like:', states[0])"
   ]
  },
  {
   "cell_type": "markdown",
   "metadata": {},
   "source": [
    "When finished, you can close the environment."
   ]
  },
  {
   "cell_type": "markdown",
   "metadata": {},
   "source": [
    "### 4. It's Your Turn!\n",
    "\n",
    "Now it's your turn to train your own agent to solve the environment!  When training the environment, set `train_mode=True`, so that the line for resetting the environment looks like the following:\n",
    "```python\n",
    "env_info = env.reset(train_mode=True)[brain_name]\n",
    "```"
   ]
  },
  {
   "cell_type": "code",
   "execution_count": 6,
   "metadata": {},
   "outputs": [
    {
     "name": "stdout",
     "output_type": "stream",
     "text": [
      "cuda\n"
     ]
    }
   ],
   "source": [
    "#from buffer import ReplayBuffer\n",
    "from Memory import ReplayMemory\n",
    "import core as core\n",
    "import torch\n",
    "import numpy as np\n",
    "from tensorboardX import SummaryWriter\n",
    "import os\n",
    "from utilities import transpose_list, transpose_to_tensor\n",
    "from collections import deque\n",
    "from copy import deepcopy\n",
    "import itertools\n",
    "import matplotlib.pyplot as plt\n",
    "\n",
    "%load_ext autoreload\n",
    "%autoreload 2\n",
    "\n",
    "device = torch.device(\"cuda\" if torch.cuda.is_available() else \"cpu\")\n",
    "\n",
    "print(device)"
   ]
  },
  {
   "cell_type": "code",
   "execution_count": 7,
   "metadata": {},
   "outputs": [],
   "source": [
    "actor_critic=core.MLPActorCritic\n",
    "ac_kwargs=dict()\n",
    "seed=0\n",
    "steps_per_epoch=4000\n",
    "epochs=100\n",
    "replay_size=int(1e5)\n",
    "gamma=0.995\n",
    "polyak=0.995\n",
    "lr=1e-3\n",
    "alpha=0.2\n",
    "batchsize = 128\n",
    "start_steps=2000\n",
    "update_after=1000\n",
    "update_every=50\n",
    "n_updates = 1\n",
    "num_test_episodes=10\n",
    "max_ep_len=1000\n",
    "#logger_kwargs=dict()\n",
    "save_freq=1\n",
    "\n",
    "log_path = os.getcwd()+\"/log\"\n",
    "model_dir= os.getcwd()+\"/model_dir\"\n",
    "\n",
    "os.makedirs(model_dir, exist_ok=True)"
   ]
  },
  {
   "cell_type": "code",
   "execution_count": 8,
   "metadata": {},
   "outputs": [],
   "source": [
    "torch.manual_seed(seed)\n",
    "np.random.seed(seed)\n",
    "\n",
    "obs_dim = state_size\n",
    "act_dim = action_size\n",
    "act_limit = 1.0 # Action limit for clamping: critically, assumes all dimensions share the same bound!\n",
    "ac_kwargs = dict(hidden_sizes=(512, 256))"
   ]
  },
  {
   "cell_type": "code",
   "execution_count": 9,
   "metadata": {},
   "outputs": [],
   "source": [
    "# Create actor-critic module and target networks\n",
    "\n",
    "ac_1 = actor_critic(obs_dim, act_dim, act_limit, num_agents, **ac_kwargs).to(device)\n",
    "ac_1_targ = deepcopy(ac_1)\n",
    "ac_2 = actor_critic(obs_dim, act_dim, act_limit, num_agents, **ac_kwargs).to(device)\n",
    "ac_2_targ = deepcopy(ac_2)\n",
    "ac = [ac_1, ac_2]\n",
    "ac_targ = [ac_1_targ, ac_2_targ]"
   ]
  },
  {
   "cell_type": "code",
   "execution_count": 10,
   "metadata": {},
   "outputs": [],
   "source": [
    "# Freeze target networks with respect to optimizers (only update via polyak averaging)\n",
    "for m in ac_targ:\n",
    "    for p in m.parameters():\n",
    "        p.requires_grad = False\n",
    "\n",
    "# List of parameters for both Q-networks (save this for convenience)\n",
    "q_params = [itertools.chain(m.q1.parameters(), m.q2.parameters()) for m in ac]\n",
    "\n",
    "# Set up optimizers for policy and q-function\n",
    "pi_optimizer = [torch.optim.Adam(m.pi.parameters(), lr=lr) for m in ac]\n",
    "q_optimizer = []\n",
    "for i in range(num_agents):\n",
    "    q_optimizer.append(torch.optim.Adam(q_params[i], lr=lr))"
   ]
  },
  {
   "cell_type": "code",
   "execution_count": 11,
   "metadata": {},
   "outputs": [],
   "source": [
    "# Experience buffer\n",
    "buffer = ReplayMemory(replay_size)"
   ]
  },
  {
   "cell_type": "code",
   "execution_count": 12,
   "metadata": {},
   "outputs": [
    {
     "data": {
      "text/plain": [
       "[(145156, 158721, 158721), (145156, 158721, 158721)]"
      ]
     },
     "execution_count": 12,
     "metadata": {},
     "output_type": "execute_result"
    }
   ],
   "source": [
    "# Count variables (protip: try to get a feel for how different size networks behave!)\n",
    "var_counts = []\n",
    "for m in ac:\n",
    "    var_counts.append(tuple(core.count_vars(module) for module in [m.pi, m.q1, m.q2]))\n",
    "var_counts"
   ]
  },
  {
   "cell_type": "code",
   "execution_count": 13,
   "metadata": {},
   "outputs": [],
   "source": [
    "# Set up function for computing SAC Q-losses\n",
    "def compute_loss_q(data, agent_num):\n",
    "    \n",
    "    # helper function to re-order inputs from perspective of the agent\n",
    "    def rotate(inputs):\n",
    "        return inputs[agent_num:] + inputs[:agent_num]\n",
    "    \n",
    "    #o, a, r, o2, d = data['obs'], data['act'], data['rew'], data['obs2'], data['done']\n",
    "    o, a, r, o2, d = map(transpose_to_tensor, data) \n",
    "    \n",
    "    o_full = torch.cat(rotate(o), dim=1).to(device)\n",
    "    o2_full = torch.cat(rotate(o2), dim=1).to(device)\n",
    "    a_full = torch.cat(rotate(a), dim=1).to(device)\n",
    "\n",
    "    agent = ac[agent_num]\n",
    "    agent_targ = ac_targ[agent_num]\n",
    "    \n",
    "    q1 = agent.q1(o_full.clone(),a_full.clone())\n",
    "    q2 = agent.q2(o_full.clone(),a_full.clone())\n",
    "\n",
    "    # Bellman backup for Q functions\n",
    "    with torch.no_grad():\n",
    "        # Target actions come from *current* policy\n",
    "        a2, logp_a2 = [], []\n",
    "        for obs, m in zip(o2, ac):\n",
    "            a2_m, logp_a2_m = m.pi(obs.to(device))\n",
    "            a2.append(a2_m)\n",
    "            logp_a2.append(logp_a2_m)\n",
    "            \n",
    "        a2_full = torch.cat(rotate(a2), dim=1).to(device)\n",
    "\n",
    "        # Target Q-values\n",
    "        q1_pi_targ = agent_targ.q1(o2_full.clone(), a2_full.clone())\n",
    "        q2_pi_targ = agent_targ.q2(o2_full.clone(), a2_full.clone())\n",
    "        q_pi_targ = torch.min(q1_pi_targ, q2_pi_targ)\n",
    "        backup = (r[agent_num] + gamma * (1 - d[agent_num])).to(device) * (q_pi_targ - alpha * logp_a2[agent_num])\n",
    "\n",
    "    # MSE loss against Bellman backup\n",
    "    loss_q1 = ((q1 - backup.clone())**2).mean()\n",
    "    loss_q2 = ((q2 - backup.clone())**2).mean()\n",
    "    loss_q = loss_q1 + loss_q2\n",
    "\n",
    "    # Useful info for logging\n",
    "    q_info = dict(Q1Vals=q1.cpu().detach().numpy(),\n",
    "                  Q2Vals=q2.cpu().detach().numpy())\n",
    "\n",
    "    return loss_q, q_info"
   ]
  },
  {
   "cell_type": "code",
   "execution_count": 14,
   "metadata": {},
   "outputs": [],
   "source": [
    "def compute_loss_pi(data, agent_num):\n",
    "    \n",
    "    def rotate(inputs):\n",
    "        return inputs[agent_num:] + inputs[:agent_num]\n",
    "    \n",
    "    o, a, r, o2, d = map(transpose_to_tensor, data) \n",
    "    o_full = torch.cat(rotate(o), dim=1).to(device)\n",
    "    \n",
    "    pi, logp_pi = [], []\n",
    "    for obs, m in zip(o, ac):\n",
    "        pi_m, logp_pi_m = m.pi(obs.to(device))\n",
    "        pi.append(pi_m)\n",
    "        logp_pi.append(logp_pi_m)\n",
    "\n",
    "    pi_full = torch.cat(rotate(pi), dim=1).to(device)\n",
    "    \n",
    "    agent = ac[agent_num]\n",
    "    \n",
    "    q1_pi = agent.q1(o_full.clone(), pi_full.clone())\n",
    "    q2_pi = agent.q2(o_full.clone(), pi_full.clone())\n",
    "    q_pi = torch.min(q1_pi, q2_pi)\n",
    "\n",
    "    # Entropy-regularized policy loss\n",
    "    loss_pi = (alpha * logp_pi[agent_num] - q_pi).mean()\n",
    "\n",
    "    # Useful info for logging\n",
    "    pi_info = dict(LogPi=logp_pi[agent_num].cpu().detach().numpy())\n",
    "\n",
    "    return loss_pi, pi_info"
   ]
  },
  {
   "cell_type": "code",
   "execution_count": 15,
   "metadata": {},
   "outputs": [],
   "source": [
    "def get_action(obs_all_agents, deterministic=False):\n",
    "    actions = [agent.act(torch.tensor(o, dtype=torch.float32).to(device), deterministic) \n",
    "               for agent, o in zip(ac, obs_all_agents)]\n",
    "    return actions\n",
    "\n",
    "def get_random_action():\n",
    "    actions = [np.random.rand(2).astype(np.float32) for _ in range(num_agents)]\n",
    "    return actions"
   ]
  },
  {
   "cell_type": "code",
   "execution_count": 16,
   "metadata": {},
   "outputs": [],
   "source": [
    "def update(data, agent_num):\n",
    "    # First run one gradient descent step for Q1 and Q2\n",
    "    q_optimizer[agent_num].zero_grad()\n",
    "    loss_q, q_info = compute_loss_q(data, agent_num)\n",
    "    loss_q.backward()\n",
    "    q_optimizer[agent_num].step()\n",
    "\n",
    "    # Record things\n",
    "    #logger.store(LossQ=loss_q.item(), **q_info)\n",
    "\n",
    "    # Freeze Q-networks so you don't waste computational effort \n",
    "    # computing gradients for them during the policy learning step.\n",
    "    for p in q_params[agent_num]:\n",
    "        p.requires_grad = False\n",
    "\n",
    "    # Next run one gradient descent step for pi.\n",
    "    pi_optimizer[agent_num].zero_grad()\n",
    "    loss_pi, pi_info = compute_loss_pi(data, agent_num)\n",
    "    loss_pi.backward()\n",
    "    pi_optimizer[agent_num].step()\n",
    "\n",
    "    # Unfreeze Q-networks so you can optimize it at next DDPG step.\n",
    "    for p in q_params[agent_num]:\n",
    "        p.requires_grad = True\n",
    "\n",
    "    # Record things\n",
    "    #logger.store(LossPi=loss_pi.item(), **pi_info)\n",
    "\n",
    "    # Finally, update target networks by polyak averaging.\n",
    "    with torch.no_grad():\n",
    "        for p, p_targ in zip(ac[agent_num].parameters(), ac_targ[agent_num].parameters()):\n",
    "            # NB: We use an in-place operations \"mul_\", \"add_\" to update target\n",
    "            # params, as opposed to \"mul\" and \"add\", which would make new tensors.\n",
    "            p_targ.data.mul_(polyak)\n",
    "            p_targ.data.add_((1 - polyak) * p.data)"
   ]
  },
  {
   "cell_type": "code",
   "execution_count": 17,
   "metadata": {},
   "outputs": [],
   "source": [
    "number_of_episodes = 60000\n",
    "save_interval = 1000\n",
    "episode_per_update = 2"
   ]
  },
  {
   "cell_type": "code",
   "execution_count": 18,
   "metadata": {},
   "outputs": [
    {
     "name": "stdout",
     "output_type": "stream",
     "text": [
      "Episode 100\tAverage score: 0.0124\tScore: 0.0000\tAvg Ep Length: 17.9\tEp with Scores: 13\n",
      "Episode 200\tAverage score: 0.0145\tScore: 0.0000\tAvg Ep Length: 17.4\tEp with Scores: 15\n",
      "Episode 300\tAverage score: 0.0220\tScore: 0.0000\tAvg Ep Length: 19.0\tEp with Scores: 23\n",
      "Episode 400\tAverage score: 0.0270\tScore: 0.0000\tAvg Ep Length: 19.8\tEp with Scores: 27\n",
      "Episode 500\tAverage score: 0.0462\tScore: 0.0000\tAvg Ep Length: 24.7\tEp with Scores: 45\n",
      "Episode 600\tAverage score: 0.0574\tScore: 0.1000\tAvg Ep Length: 26.6\tEp with Scores: 57\n",
      "Episode 700\tAverage score: 0.0735\tScore: 0.1000\tAvg Ep Length: 32.5\tEp with Scores: 71\n",
      "Episode 800\tAverage score: 0.0884\tScore: 0.1000\tAvg Ep Length: 35.8\tEp with Scores: 84\n",
      "Episode 900\tAverage score: 0.0946\tScore: 0.1000\tAvg Ep Length: 39.5\tEp with Scores: 85\n",
      "Episode 1000\tAverage score: 0.1273\tScore: 0.1000\tAvg Ep Length: 51.6\tEp with Scores: 91\n",
      "Episode 1100\tAverage score: 0.1199\tScore: 0.1000\tAvg Ep Length: 49.8\tEp with Scores: 89\n",
      "Episode 1200\tAverage score: 0.1493\tScore: 0.1000\tAvg Ep Length: 61.9\tEp with Scores: 91\n",
      "Episode 1300\tAverage score: 0.1532\tScore: 0.1000\tAvg Ep Length: 64.9\tEp with Scores: 94\n",
      "Episode 1400\tAverage score: 0.2106\tScore: 0.3000\tAvg Ep Length: 86.8\tEp with Scores: 96\n",
      "Episode 1500\tAverage score: 0.2508\tScore: 1.5000\tAvg Ep Length: 101.6\tEp with Scores: 98\n",
      "Episode 1600\tAverage score: 0.3288\tScore: 0.4000\tAvg Ep Length: 129.2\tEp with Scores: 980\n",
      "Episode 1671\tAverage Score: 0.5033\tScore: 1.7000\tAvg Ep Length: 197.8\tEp with Scores: 97\n",
      "Environment solved in 1671 episodes!\tAverage Score: 0.5033\n"
     ]
    }
   ],
   "source": [
    "from workspace_utils import keep_awake\n",
    "\n",
    "number_of_episodes = 60000\n",
    "save_interval = 1000\n",
    "episode_per_update = 2\n",
    "\n",
    "#agent0_reward = []\n",
    "#agent1_reward = []\n",
    "\n",
    "scores_deque = deque(maxlen=100)\n",
    "ent_len_deque = deque(maxlen=100)\n",
    "scores = []                                                         \n",
    "average_scores = []\n",
    "t = 0\n",
    "ent_len = 0\n",
    "\n",
    "for episode in keep_awake(range(1, number_of_episodes+1)):\n",
    "\n",
    "    reward_this_episode = np.zeros(num_agents)\n",
    "    env_info = env.reset(train_mode=True)[brain_name]\n",
    "    obs = env_info.vector_observations\n",
    "\n",
    "    #for calculating rewards for this particular episode - addition of all time steps\n",
    "\n",
    "    # save info or not\n",
    "    save_info = ((episode) % save_interval == 0 or episode==number_of_episodes-1)\n",
    "\n",
    "    while True:\n",
    "        \n",
    "        if t > start_steps:\n",
    "            actions = get_random_action()\n",
    "        else:\n",
    "            actions = get_action(obs) # return list of numpy arrays\n",
    "        actions = np.stack(actions)\n",
    "\n",
    "        # step forward one frame\n",
    "        env_info = env.step(actions)[brain_name]\n",
    "        next_obs = env_info.vector_observations            # get next state (for each agent)\n",
    "        rewards = env_info.rewards                         # get reward (for each agent)\n",
    "        dones = env_info.local_done                        # see if episode finished\n",
    " \n",
    "        # add data to buffer\n",
    "        transition = (obs, actions, rewards, next_obs, dones)\n",
    "        buffer.push(*transition)\n",
    "\n",
    "        reward_this_episode += rewards\n",
    "        ent_len += 1\n",
    "        t += 1\n",
    "        '''\n",
    "        if t >= update_after and t % update_every == 0:\n",
    "            for _ in range(update_every * n_updates):  # train for ent_len for each episode\n",
    "                #samples = buffer.sample(batchsize)\n",
    "                for a_i in range(num_agents):\n",
    "                    samples = buffer.sample(batchsize)\n",
    "                    update(samples, a_i)\n",
    "        '''       \n",
    "        obs = next_obs\n",
    "        \n",
    "        if np.any(dones):\n",
    "            break\n",
    "    \n",
    "    # calcualte episode length\n",
    "    ent_len_deque.append(ent_len)\n",
    "    ent_len = 0\n",
    "    # calcualte socres\n",
    "    score = np.max(reward_this_episode)\n",
    "    scores.append(score)\n",
    "    scores_deque.append(score)\n",
    "    average_score = np.mean(scores_deque)\n",
    "    average_scores.append(average_score)\n",
    "    episode_with_scores = np.sum(np.where(scores_deque, 1, 0))\n",
    "    \n",
    "    # update once after every episode_per_update\n",
    "    if len(buffer) > batchsize and episode % episode_per_update == 0:\n",
    "        for _ in range(t):  # train for ent_len for each episode\n",
    "            #samples = buffer.sample(batchsize)\n",
    "            for a_i in range(num_agents):\n",
    "                samples = buffer.sample(batchsize)\n",
    "                update(samples, a_i)\n",
    "        t = 0\n",
    "  \n",
    "    print('\\rEpisode {}\\tAverage Score: {:.4f}\\tScore: {:.4f}\\tAvg Ep Length: {:.1f}\\tEp with Scores: {}'.format(episode, average_score, score, np.mean(ent_len_deque), episode_with_scores), end=\"\")\n",
    "    if episode % 100 == 0:\n",
    "        print('\\rEpisode {}\\tAverage score: {:.4f}'.format(episode , average_score))\n",
    "    if average_score >= 0.5:\n",
    "        print('\\nEnvironment solved in {:d} episodes!\\tAverage Score: {:.4f}'.format(episode, average_score))\n",
    "        break\n",
    "\n",
    "    #saving model\n",
    "    save_dict_list =[]\n",
    "    if save_info:\n",
    "        for i in range(num_agents):\n",
    "\n",
    "            save_dict = {'pi_params' : ac[i].pi.state_dict(),\n",
    "                         'pi_optim_params': pi_optimizer[i].state_dict(),\n",
    "                         'q1_params' : ac[i].q1.state_dict(),\n",
    "                         'q2_params' : ac[i].q2.state_dict(),\n",
    "                         'q_optim_params' : q_optimizer[i].state_dict()}\n",
    "            save_dict_list.append(save_dict)\n",
    "            \n",
    "        torch.save(save_dict_list, os.path.join(model_dir, 'episode-{}.pt'.format(episode)))\n"
   ]
  },
  {
   "cell_type": "code",
   "execution_count": 19,
   "metadata": {},
   "outputs": [
    {
     "data": {
      "image/png": "[encoded data removed]",
      "text/plain": [
       "<matplotlib.figure.Figure at 0x7f2fc6c9f0b8>"
      ]
     },
     "metadata": {
      "needs_background": "light"
     },
     "output_type": "display_data"
    }
   ],
   "source": [
    "baseline = 0.5 * np.ones(len(scores))\n",
    "\n",
    "fig, ax = plt.subplots()\n",
    "ax.plot(scores, label='maximum score')\n",
    "ax.plot(average_scores, label='average score')\n",
    "ax.plot(baseline, label='baseline')\n",
    "ax.set(ylabel='Score', xlabel='Epsisode')\n",
    "ax.legend()\n",
    "ax.grid()\n",
    "plt.show()"
   ]
  },
  {
   "cell_type": "code",
   "execution_count": 25,
   "metadata": {},
   "outputs": [],
   "source": [
    "#save final model\n",
    "save_dict_list =[]\n",
    "for i in range(num_agents):\n",
    "\n",
    "    save_dict = {'pi_params' : ac[i].pi.state_dict(),\n",
    "                 'pi_optim_params': pi_optimizer[i].state_dict(),\n",
    "                 'q1_params' : ac[i].q1.state_dict(),\n",
    "                 'q2_params' : ac[i].q2.state_dict(),\n",
    "                 'q_optim_params' : q_optimizer[i].state_dict()}\n",
    "    save_dict_list.append(save_dict)\n",
    "\n",
    "torch.save(save_dict_list, os.path.join(model_dir, 'episode-{}.pt'.format('solved-0.5')))"
   ]
  },
  {
   "cell_type": "code",
   "execution_count": 21,
   "metadata": {},
   "outputs": [],
   "source": [
    "def test_agent():\n",
    "    for j in range(num_test_episodes):\n",
    "        \n",
    "        reward_this_episode = np.zeros(num_agents)\n",
    "        env_info = env.reset(train_mode=True)[brain_name]\n",
    "        obs = env_info.vector_observations\n",
    "        ep_len = 0\n",
    "        \n",
    "        while True:\n",
    "            actions = get_action(obs, deterministic=True) # return list of numpy arrays\n",
    "            actions = np.stack(actions)\n",
    "\n",
    "            # step forward one frame\n",
    "            env_info = env.step(actions)[brain_name]\n",
    "            obs = env_info.vector_observations            # get next state (for each agent)\n",
    "            rewards = env_info.rewards                         # get reward (for each agent)\n",
    "            dones = env_info.local_done  \n",
    "            ep_len += 1\n",
    "            reward_this_episode += rewards\n",
    "            \n",
    "            if np.any(dones):\n",
    "                break\n",
    "                \n",
    "        print('\\rEpisode {}\\tScore 0: {:.2f}\\tScore 1: {:.2f}\\tLength: {}'.\n",
    "              format(j, reward_this_episode[0], reward_this_episode[1], ep_len))"
   ]
  },
  {
   "cell_type": "code",
   "execution_count": 22,
   "metadata": {},
   "outputs": [
    {
     "name": "stdout",
     "output_type": "stream",
     "text": [
      "Episode 0\tScore 0: 2.60\tScore 1: 2.60\tLength: 1001\n",
      "Episode 1\tScore 0: 2.60\tScore 1: 2.70\tLength: 1001\n",
      "Episode 2\tScore 0: 2.70\tScore 1: 2.60\tLength: 1001\n",
      "Episode 3\tScore 0: 2.60\tScore 1: 2.60\tLength: 1001\n",
      "Episode 4\tScore 0: 2.60\tScore 1: 2.70\tLength: 1001\n",
      "Episode 5\tScore 0: 2.70\tScore 1: 2.60\tLength: 1001\n",
      "Episode 6\tScore 0: 2.60\tScore 1: 2.60\tLength: 1001\n",
      "Episode 7\tScore 0: 2.60\tScore 1: 2.70\tLength: 1001\n",
      "Episode 8\tScore 0: 2.70\tScore 1: 2.60\tLength: 1001\n",
      "Episode 9\tScore 0: 2.60\tScore 1: 2.60\tLength: 1001\n"
     ]
    }
   ],
   "source": [
    "test_agent()"
   ]
  },
  {
   "cell_type": "code",
   "execution_count": 26,
   "metadata": {},
   "outputs": [],
   "source": [
    "# routine to load saved model from disk\n",
    "\n",
    "from utilities import hard_update\n",
    "model_name = 'episode-{}.pt'.format('solved-0.5')\n",
    "\n",
    "checkpoint = torch.load(os.path.join(model_dir, model_name))\n",
    "\n",
    "for i in range(2):\n",
    "\n",
    "    ac[i].pi.load_state_dict(checkpoint[i]['pi_params'])\n",
    "    pi_optimizer[i].load_state_dict(checkpoint[i]['pi_optim_params'])\n",
    "    ac[i].q1.load_state_dict(checkpoint[i]['q1_params'])\n",
    "    ac[i].q2.load_state_dict(checkpoint[i]['q2_params'])\n",
    "    q_optimizer[i].load_state_dict(checkpoint[i]['q_optim_params'])\n",
    "    \n",
    "    hard_update(ac_targ[i].pi, ac[i].pi)\n",
    "    hard_update(ac_targ[i].q1, ac[i].q1)\n",
    "    hard_update(ac_targ[i].q2, ac[i].q2)"
   ]
  },
  {
   "cell_type": "code",
   "execution_count": 27,
   "metadata": {},
   "outputs": [
    {
     "name": "stdout",
     "output_type": "stream",
     "text": [
      "Episode 100\tAverage score: 1.7228\tScore: 2.2000\tAvg Ep Length: 655.1\tEp with Scores: 99\n",
      "Episode 121\tAverage Score: 2.0099\tScore: 2.2000\tAvg Ep Length: 763.5\tEp with Scores: 99\n",
      "Environment solved in 121 episodes!\tAverage Score: 2.0099\n"
     ]
    }
   ],
   "source": [
    "for episode in keep_awake(range(1, number_of_episodes+1)):\n",
    "\n",
    "    reward_this_episode = np.zeros(num_agents)\n",
    "    env_info = env.reset(train_mode=True)[brain_name]\n",
    "    obs = env_info.vector_observations\n",
    "\n",
    "    #for calculating rewards for this particular episode - addition of all time steps\n",
    "\n",
    "    # save info or not\n",
    "    save_info = ((episode) % save_interval == 0 or episode==number_of_episodes-1)\n",
    "\n",
    "    while True:\n",
    "        \n",
    "        if t > start_steps:\n",
    "            actions = get_random_action()\n",
    "        else:\n",
    "            actions = get_action(obs) # return list of numpy arrays\n",
    "        actions = np.stack(actions)\n",
    "\n",
    "        # step forward one frame\n",
    "        env_info = env.step(actions)[brain_name]\n",
    "        next_obs = env_info.vector_observations            # get next state (for each agent)\n",
    "        rewards = env_info.rewards                         # get reward (for each agent)\n",
    "        dones = env_info.local_done                        # see if episode finished\n",
    " \n",
    "        # add data to buffer\n",
    "        transition = (obs, actions, rewards, next_obs, dones)\n",
    "        buffer.push(*transition)\n",
    "\n",
    "        reward_this_episode += rewards\n",
    "        ent_len += 1\n",
    "        t += 1\n",
    "        '''\n",
    "        if t >= update_after and t % update_every == 0:\n",
    "            for _ in range(update_every * n_updates):  # train for ent_len for each episode\n",
    "                #samples = buffer.sample(batchsize)\n",
    "                for a_i in range(num_agents):\n",
    "                    samples = buffer.sample(batchsize)\n",
    "                    update(samples, a_i)\n",
    "        '''       \n",
    "        obs = next_obs\n",
    "        \n",
    "        if np.any(dones):\n",
    "            break\n",
    "    \n",
    "    # calcualte episode length\n",
    "    ent_len_deque.append(ent_len)\n",
    "    ent_len = 0\n",
    "    # calcualte socres\n",
    "    score = np.max(reward_this_episode)\n",
    "    scores.append(score)\n",
    "    scores_deque.append(score)\n",
    "    average_score = np.mean(scores_deque)\n",
    "    average_scores.append(average_score)\n",
    "    episode_with_scores = np.sum(np.where(scores_deque, 1, 0))\n",
    "    \n",
    "    # update once after every episode_per_update\n",
    "    if len(buffer) > batchsize and episode % episode_per_update == 0:\n",
    "        for _ in range(t):  # train for ent_len for each episode\n",
    "            #samples = buffer.sample(batchsize)\n",
    "            for a_i in range(num_agents):\n",
    "                samples = buffer.sample(batchsize)\n",
    "                update(samples, a_i)\n",
    "        t = 0\n",
    "  \n",
    "    print('\\rEpisode {}\\tAverage Score: {:.4f}\\tScore: {:.4f}\\tAvg Ep Length: {:.1f}\\tEp with Scores: {}'.format(episode, average_score, score, np.mean(ent_len_deque), episode_with_scores), end=\"\")\n",
    "    if episode % 100 == 0:\n",
    "        print('\\rEpisode {}\\tAverage score: {:.4f}'.format(episode , average_score))\n",
    "    if average_score >= 2.0:\n",
    "        print('\\nEnvironment solved in {:d} episodes!\\tAverage Score: {:.4f}'.format(episode, average_score))\n",
    "        break\n",
    "\n",
    "    #saving model\n",
    "    save_dict_list =[]\n",
    "    if save_info:\n",
    "        for i in range(num_agents):\n",
    "\n",
    "            save_dict = {'pi_params' : ac[i].pi.state_dict(),\n",
    "                         'pi_optim_params': pi_optimizer[i].state_dict(),\n",
    "                         'q1_params' : ac[i].q1.state_dict(),\n",
    "                         'q2_params' : ac[i].q2.state_dict(),\n",
    "                         'q_optim_params' : q_optimizer[i].state_dict()}\n",
    "            save_dict_list.append(save_dict)\n",
    "            \n",
    "        torch.save(save_dict_list, os.path.join(model_dir, 'episode-{}.pt'.format(episode)))\n"
   ]
  },
  {
   "cell_type": "code",
   "execution_count": 28,
   "metadata": {},
   "outputs": [
    {
     "data": {
      "image/png": "[encoded data removed]",
      "text/plain": [
       "<matplotlib.figure.Figure at 0x7f2f9012c630>"
      ]
     },
     "metadata": {
      "needs_background": "light"
     },
     "output_type": "display_data"
    }
   ],
   "source": [
    "baseline = 2.0 * np.ones(len(scores))\n",
    "\n",
    "fig, ax = plt.subplots()\n",
    "ax.plot(scores, label='maximum score')\n",
    "ax.plot(average_scores, label='average score')\n",
    "ax.plot(baseline, label='baseline')\n",
    "ax.set(ylabel='Score', xlabel='Epsisode')\n",
    "ax.legend()\n",
    "ax.grid()\n",
    "plt.show()"
   ]
  },
  {
   "cell_type": "code",
   "execution_count": 29,
   "metadata": {},
   "outputs": [
    {
     "name": "stdout",
     "output_type": "stream",
     "text": [
      "Episode 0\tScore 0: 2.60\tScore 1: 2.60\tLength: 1001\n",
      "Episode 1\tScore 0: 2.70\tScore 1: 2.60\tLength: 1001\n",
      "Episode 2\tScore 0: 2.60\tScore 1: 2.60\tLength: 1001\n",
      "Episode 3\tScore 0: 2.60\tScore 1: 2.70\tLength: 1001\n",
      "Episode 4\tScore 0: 2.70\tScore 1: 2.60\tLength: 1001\n",
      "Episode 5\tScore 0: 2.60\tScore 1: 2.60\tLength: 1001\n",
      "Episode 6\tScore 0: 2.60\tScore 1: 2.70\tLength: 1001\n",
      "Episode 7\tScore 0: 2.70\tScore 1: 2.60\tLength: 1001\n",
      "Episode 8\tScore 0: 2.60\tScore 1: 2.60\tLength: 1001\n",
      "Episode 9\tScore 0: 2.60\tScore 1: 2.70\tLength: 1001\n"
     ]
    }
   ],
   "source": [
    "test_agent()"
   ]
  },
  {
   "cell_type": "code",
   "execution_count": 30,
   "metadata": {},
   "outputs": [],
   "source": [
    "#save final model\n",
    "save_dict_list =[]\n",
    "\n",
    "for i in range(num_agents):\n",
    "\n",
    "    save_dict = {'pi_params' : ac[i].pi.state_dict(),\n",
    "                 'pi_optim_params': pi_optimizer[i].state_dict(),\n",
    "                 'q1_params' : ac[i].q1.state_dict(),\n",
    "                 'q2_params' : ac[i].q2.state_dict(),\n",
    "                 'q_optim_params' : q_optimizer[i].state_dict()}\n",
    "    save_dict_list.append(save_dict)\n",
    "\n",
    "torch.save(save_dict_list, os.path.join(model_dir, 'episode-{}.pt'.format('solved-2.0')))"
   ]
  },
  {
   "cell_type": "code",
   "execution_count": null,
   "metadata": {},
   "outputs": [],
   "source": []
  }
 ],
 "metadata": {
  "kernelspec": {
   "display_name": "Python 3",
   "language": "python",
   "name": "python3"
  },
  "language_info": {
   "codemirror_mode": {
    "name": "ipython",
    "version": 3
   },
   "file_extension": ".py",
   "mimetype": "text/x-python",
   "name": "python",
   "nbconvert_exporter": "python",
   "pygments_lexer": "ipython3",
   "version": "3.6.3"
  }
 },
 "nbformat": 4,
 "nbformat_minor": 2
}
